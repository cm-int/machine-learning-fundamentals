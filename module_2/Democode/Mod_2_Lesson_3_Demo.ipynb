{
  "cells": [
    {
      "cell_type": "markdown",
      "metadata": {
        "colab_type": "text",
        "id": "view-in-github"
      },
      "source": [
        "<a href=\"https://colab.research.google.com/github/cm-int/machine-learning-fundamentals/blob/main/module_2/Democode/Mod_2_Lesson_3_Demo.ipynb\" target=\"_parent\"><img src=\"https://colab.research.google.com/assets/colab-badge.svg\" alt=\"Open In Colab\"/></a>"
      ]
    },
    {
      "cell_type": "markdown",
      "metadata": {
        "id": "q48Z00umUdo6"
      },
      "source": [
        "# Creating a Binary Classification Machine Learning Model\n",
        "\n",
        "In this demonstration, you’ll see how to create a binary classification model to determine whether mushrooms are poisonous or edible depending on their appearance. You’ll compare the results of several classification models.\n",
        "\n",
        "This demonstration uses a modified version of the **Mushroom Classification: Safe to eat or deadly poison?** dataset originally donated to the UCI Machine Learning repository. It is available for use under the **CC0: Public Domain** licence.\n",
        "\n",
        "---\n",
        "\n",
        "The dataset has the following structure:\n",
        "\n",
        "\n",
        "\n",
        "> |Variable|Description|\n",
        "> |--------|-----------|\n",
        "> |class   |edible=e, poisonous=p|\n",
        "> |cap-shape|bell=b, conical=c, convex=x, flat=f, knobbed=k, sunken=s|\n",
        "> |cap-surface|fibrous=f, grooves=g, scaly=y, smooth=s|\n",
        "> |cap-color|brown=n, buff=b, cinnamon=c, gray=g, green=r, pink=p, purple=u, red=e, white=w, yellow=y|\n",
        "> |bruises|bruises=t, no=f|\n",
        "> |odor|almond=a, anise=l, creosote=c, fishy=y, foul=f, musty=m, none=n, pungent=p, spicy=s|\n",
        "> |gill-attachment|attached=a, descending=d, free=f, notched=n|\n",
        "> |gill-spacing|close=c, crowded=w, distant=d|\n",
        "> |gill-size|broad=b, narrow=n|\n",
        "> |gill-color|black=k, brown=n, buff=b, chocolate=h, gray=g, green=r,orange=o, pink=p, purple=u, red=e, white=w, yellow=y|\n",
        "> |stalk-shape|enlarging=e, tapering=t|\n",
        "> |stalk-root|bulbous=b, club=c, cup=u, equal=e, rhizomorphs=z, rooted=r,missing=?|\n",
        "> |stalk-surface-above-ring|fibrous=f, scaly=y, silky=k, smooth=s|\n",
        "> |stalk-surface-below-ring|fibrous=f, scaly=y, silky=k, smooth=s|\n",
        "> |stalk-color-above-ring|brown=n, buff=b, cinnamon=c, gray=g, orange=o, pink=p,red=e, white=w, yellow=y|\n",
        "> |stalk-color-below-ring|brown=n, buff=b, cinnamon=c, gray=g, orange=o, pink=p,red=e, white=w, yellow=y|\n",
        "> |veil-type|partial=p, universal=u|\n",
        "> |veil-color|brown=n, orange=o, white=w, yellow=y|\n",
        "> |ring-number|none=n, one=o, two=t|\n",
        "> |ring-type|cobwebby=c, evanescent=e, flaring=f, large=l, none=n, pendant=p, sheathing=s, zone=z|\n",
        "> |spore-print-color|black=k, brown=n, buff=b, chocolate=h, green=r, orange=o, purple=u, white=w, yellow=y|\n",
        "> |population|abundant=a, clustered=c, numerous=n, scattered=s, several=v, solitary=y|\n",
        "> |habitat|grasses=g, leaves=l, meadows=m, paths=p, urban=u, waste=w, woods=d|\n",
        "\n",
        "\n",
        "---\n"
      ]
    },
    {
      "cell_type": "markdown",
      "metadata": {
        "id": "7OGr7_gIM_qZ"
      },
      "source": [
        "# Prepare the data"
      ]
    },
    {
      "cell_type": "code",
      "execution_count": null,
      "metadata": {},
      "outputs": [],
      "source": [
        "# Upload the mushrooms.csv file\n",
        "\n",
        "!wget 'https://raw.githubusercontent.com/cm-int/machine-learning-fundamentals/main/module_2/Democode/mushrooms.csv'"
      ]
    },
    {
      "cell_type": "code",
      "execution_count": null,
      "metadata": {
        "id": "4iMEi04Q2OT2"
      },
      "outputs": [],
      "source": [
        "# Read the data from the CSV file\n",
        "\n",
        "import numpy as np\n",
        "import pandas as pd\n",
        "\n",
        "mushrooms = pd.read_csv(\"mushrooms.csv\")\n",
        "mushrooms"
      ]
    },
    {
      "cell_type": "code",
      "execution_count": null,
      "metadata": {
        "id": "isZWQgT8Tng7"
      },
      "outputs": [],
      "source": [
        "# Convert categorical data to dummy variables\n",
        "\n",
        "mushrooms = pd.get_dummies(mushrooms)\n",
        "mushrooms"
      ]
    },
    {
      "cell_type": "code",
      "execution_count": null,
      "metadata": {
        "id": "rnyUjStr74vW"
      },
      "outputs": [],
      "source": [
        "# Create a features dataset without the class dummy variables\n",
        "\n",
        "features = mushrooms.drop(['class_e', 'class_p'], axis=1)\n",
        "features"
      ]
    },
    {
      "cell_type": "code",
      "execution_count": null,
      "metadata": {
        "id": "EW6WlAcN8frf"
      },
      "outputs": [],
      "source": [
        "# Create a predictions dataset using the edible class\n",
        "\n",
        "predictions = mushrooms['class_e']"
      ]
    },
    {
      "cell_type": "markdown",
      "metadata": {
        "id": "_FDnXUh9Msce"
      },
      "source": [
        "# Visualize the data"
      ]
    },
    {
      "cell_type": "code",
      "execution_count": null,
      "metadata": {
        "id": "c3YpbFiVxBoR"
      },
      "outputs": [],
      "source": [
        "import graphviz\n",
        "import matplotlib.pyplot as plt\n",
        "from sklearn.manifold import TSNE\n",
        "\n",
        "visual_model = TSNE(learning_rate = 100, init='pca')\n",
        "visual_transformation = visual_model.fit_transform(features)\n",
        "x_data = visual_transformation[:, 0]\n",
        "y_data = visual_transformation[:, 1]\n",
        "transformed_data = pd.DataFrame({'x':x_data, 'y':y_data})"
      ]
    },
    {
      "cell_type": "code",
      "execution_count": null,
      "metadata": {
        "id": "qGKSg_QZxqOo"
      },
      "outputs": [],
      "source": [
        "plt.figure(figsize=(10, 10))\n",
        "plt.scatter(transformed_data.loc[predictions==0]['x'], transformed_data.loc[predictions==0]['y'], c='red')\n",
        "plt.scatter(transformed_data.loc[predictions==1]['x'], transformed_data.loc[predictions==1]['y'], c='blue')\n",
        "plt.legend(loc ='lower left', labels = ['poisonous', 'edible'])\n",
        "plt.show()"
      ]
    },
    {
      "cell_type": "markdown",
      "metadata": {
        "id": "lPmfHffzMzfE"
      },
      "source": [
        "# Create a decision tree model to classify the data"
      ]
    },
    {
      "cell_type": "code",
      "execution_count": null,
      "metadata": {
        "id": "KCunkV3C8zlT"
      },
      "outputs": [],
      "source": [
        "# Split the data into training and test datasets\n",
        "\n",
        "from sklearn.model_selection import train_test_split\n",
        "\n",
        "features_train, features_test, predictions_train, predictions_test = \\\n",
        "  train_test_split(features, predictions, test_size=0.33, random_state=13) # Random state specified to ensure repeatability if necessary"
      ]
    },
    {
      "cell_type": "code",
      "execution_count": null,
      "metadata": {
        "id": "FIY8NAr99SPc"
      },
      "outputs": [],
      "source": [
        "print(f'features_train: {features_train.shape}\\npredictions_train: {predictions_train.shape}')"
      ]
    },
    {
      "cell_type": "code",
      "execution_count": null,
      "metadata": {
        "id": "oB6TxBzo-Fa8"
      },
      "outputs": [],
      "source": [
        "# Create a decision tree classifier that limits the depth to 4 levels below the root node\n",
        "\n",
        "from sklearn.tree import DecisionTreeClassifier\n",
        "\n",
        "dt_model = DecisionTreeClassifier(criterion='gini', max_depth=4)"
      ]
    },
    {
      "cell_type": "code",
      "execution_count": null,
      "metadata": {
        "id": "UNKAr_x8-OdD"
      },
      "outputs": [],
      "source": [
        "# Train the model\n",
        "\n",
        "_ = dt_model.fit(features_train, predictions_train)"
      ]
    },
    {
      "cell_type": "code",
      "execution_count": null,
      "metadata": {
        "id": "5twwVAm4-ZBv"
      },
      "outputs": [],
      "source": [
        "# View the decision tree\n",
        "\n",
        "from sklearn.tree import export_graphviz\n",
        "\n",
        "view_data = export_graphviz(dt_model, out_file=None, feature_names=features.columns, class_names=['edible', 'poisonous'])\n",
        "graph = graphviz.Source(view_data)\n",
        "graph"
      ]
    },
    {
      "cell_type": "code",
      "execution_count": null,
      "metadata": {
        "id": "ZIXr05Ptq_x4"
      },
      "outputs": [],
      "source": [
        "# Make a couple of test predictions using two observations from the test data and compare the results to the real class labels for these observations\n",
        "\n",
        "# First, observation and prediction #3\n",
        "\n",
        "predicted_class_label = dt_model.predict(features_test[2:3])[0]\n",
        "real_class_label = predictions_test.iat[2]\n",
        "\n",
        "is_prediction_correct = (predicted_class_label == real_class_label)\n",
        "print(f'Predicted value (edible): {predicted_class_label}')\n",
        "print(f'Is prediction correct? {is_prediction_correct}')\n",
        "\n",
        "print(f'Probabilities: {dt_model.predict_proba(features_test[2:3])[0]}')"
      ]
    },
    {
      "cell_type": "code",
      "execution_count": null,
      "metadata": {
        "id": "bjIccnlVzy_V"
      },
      "outputs": [],
      "source": [
        "# Second, observation and prediction #501\n",
        "\n",
        "predicted_class_label = dt_model.predict(features_test[500:501])[0]\n",
        "real_class_label = predictions_test.iat[500]\n",
        "\n",
        "is_prediction_correct = (predicted_class_label == real_class_label)\n",
        "print(f'Predicted value (edible): {predicted_class_label}')\n",
        "print(f'Is prediction correct? {is_prediction_correct}')\n",
        "\n",
        "print(f'Probabilities: {dt_model.predict_proba(features_test[500:501])[0]}')"
      ]
    },
    {
      "cell_type": "code",
      "execution_count": null,
      "metadata": {
        "id": "qxhNZelR3Svz"
      },
      "outputs": [],
      "source": [
        "# Create and train another decision tree classifier with 6 levels below the root node, for comparison\n",
        "\n",
        "dt_model = DecisionTreeClassifier(criterion='gini', max_depth=6)\n",
        "_ = dt_model.fit(features_train, predictions_train)"
      ]
    },
    {
      "cell_type": "code",
      "execution_count": null,
      "metadata": {
        "id": "YgaTcrfV3mM7"
      },
      "outputs": [],
      "source": [
        "# Repeat the tests and compare the probabilities\n",
        "\n",
        "# First, observation and prediction #3\n",
        "predicted_class_label = dt_model.predict(features_test[2:3])[0]\n",
        "real_class_label = predictions_test.iat[2]\n",
        "\n",
        "is_prediction_correct = (predicted_class_label == real_class_label)\n",
        "print(f'Predicted value (edible): {predicted_class_label}')\n",
        "print(f'Is prediction correct? {is_prediction_correct}')\n",
        "\n",
        "print(f'Probabilities: {dt_model.predict_proba(features_test[2:3])[0]}')\n",
        "print('\\n')\n",
        "\n",
        "# Second, observation and prediction 501\n",
        "\n",
        "predicted_class_label = dt_model.predict(features_test[500:501])[0]\n",
        "real_class_label = predictions_test.iat[500]\n",
        "\n",
        "is_prediction_correct = (predicted_class_label == real_class_label)\n",
        "print(f'Predicted value (edible): {predicted_class_label}')\n",
        "print(f'Is prediction correct? {is_prediction_correct}')\n",
        "\n",
        "print(f'Probabilities: {dt_model.predict_proba(features_test[500:501])[0]}')"
      ]
    },
    {
      "cell_type": "markdown",
      "metadata": {
        "id": "U-8a92QoMboZ"
      },
      "source": [
        "# Create a random forest model to classify the data"
      ]
    },
    {
      "cell_type": "code",
      "execution_count": null,
      "metadata": {
        "id": "1AiygHFjL8DC"
      },
      "outputs": [],
      "source": [
        "# Create and train the model\n",
        "\n",
        "from sklearn.ensemble import RandomForestClassifier\n",
        "\n",
        "forest_model = RandomForestClassifier(n_estimators=100)\n",
        "_ = forest_model.fit(features_train, predictions_train)"
      ]
    },
    {
      "cell_type": "code",
      "execution_count": null,
      "metadata": {
        "id": "vwLLmHl1OLTx"
      },
      "outputs": [],
      "source": [
        "# Test using the same data as before and compare the probabilities to those of the decision tree model\n",
        "\n",
        "# First, observation and prediction #3\n",
        "predicted_class_label = forest_model.predict(features_test[2:3])[0]\n",
        "real_class_label = predictions_test.iat[2]\n",
        "\n",
        "is_prediction_correct = (predicted_class_label == real_class_label)\n",
        "print(f'Predicted value (edible): {predicted_class_label}')\n",
        "print(f'Is prediction correct? {is_prediction_correct}')\n",
        "\n",
        "print(f'Probabilities: {forest_model.predict_proba(features_test[2:3])[0]}')\n",
        "print('\\n')\n",
        "\n",
        "# Second, observation and prediction 501\n",
        "\n",
        "predicted_class_label = forest_model.predict(features_test[500:501])[0]\n",
        "real_class_label = predictions_test.iat[500]\n",
        "\n",
        "is_prediction_correct = (predicted_class_label == real_class_label)\n",
        "print(f'Predicted value (edible): {predicted_class_label}')\n",
        "print(f'Is prediction correct? {is_prediction_correct}')\n",
        "\n",
        "print(f'Probabilities: {forest_model.predict_proba(features_test[500:501])[0]}')"
      ]
    },
    {
      "cell_type": "markdown",
      "metadata": {
        "id": "udTZhk5vaxmd"
      },
      "source": [
        "# Create a gradient boosted tree model to classify the data"
      ]
    },
    {
      "cell_type": "code",
      "execution_count": null,
      "metadata": {
        "id": "T6Nm9BWYa5Ir"
      },
      "outputs": [],
      "source": [
        "# Create and train the model\n",
        "\n",
        "from sklearn.ensemble import GradientBoostingClassifier\n",
        "\n",
        "gbt_model = GradientBoostingClassifier(n_estimators=100, learning_rate=0.25, max_depth=6)\n",
        "_ = gbt_model.fit(features_train, predictions_train)"
      ]
    },
    {
      "cell_type": "code",
      "execution_count": null,
      "metadata": {
        "id": "hvQvgtzAbMl0"
      },
      "outputs": [],
      "source": [
        "# Test the model and compare the results with earlier\n",
        "\n",
        "# First, observation and prediction #3\n",
        "predicted_class_label = gbt_model.predict(features_test[2:3])[0]\n",
        "real_class_label = predictions_test.iat[2]\n",
        "\n",
        "is_prediction_correct = (predicted_class_label == real_class_label)\n",
        "print(f'Predicted value (edible): {predicted_class_label}')\n",
        "print(f'Is prediction correct? {is_prediction_correct}')\n",
        "\n",
        "print(f'Probabilities: {gbt_model.predict_proba(features_test[2:3])[0]}')\n",
        "print('\\n')\n",
        "\n",
        "# Second, observation and prediction #501\n",
        "\n",
        "predicted_class_label = gbt_model.predict(features_test[500:501])[0]\n",
        "real_class_label = predictions_test.iat[500]\n",
        "\n",
        "is_prediction_correct = (predicted_class_label == real_class_label)\n",
        "print(f'Predicted value (edible): {predicted_class_label}')\n",
        "print(f'Is prediction correct? {is_prediction_correct}')\n",
        "\n",
        "print(f'Probabilities: {gbt_model.predict_proba(features_test[500:501])[0]}')"
      ]
    },
    {
      "cell_type": "markdown",
      "metadata": {
        "id": "jq2WQlPN8pCn"
      },
      "source": [
        "# Create a logistic regression model to classify the data"
      ]
    },
    {
      "cell_type": "code",
      "execution_count": null,
      "metadata": {
        "id": "rZpD_eXT81El"
      },
      "outputs": [],
      "source": [
        "# Create and train the model\n",
        "\n",
        "from sklearn.linear_model import LogisticRegression\n",
        "\n",
        "logit_model = LogisticRegression( max_iter=400, solver=\"lbfgs\", tol=1e-4)\n",
        "_ = logit_model.fit(features_train, predictions_train)"
      ]
    },
    {
      "cell_type": "code",
      "execution_count": null,
      "metadata": {
        "id": "Ogj0BOIH837d"
      },
      "outputs": [],
      "source": [
        "# Test the model and compare the results with earlier\n",
        "\n",
        "# First, observation and prediction #3\n",
        "predicted_class_label = logit_model.predict(features_test[2:3])[0]\n",
        "real_class_label = predictions_test.iat[2]\n",
        "\n",
        "is_prediction_correct = (predicted_class_label == real_class_label)\n",
        "print(f'Predicted value (edible): {predicted_class_label}')\n",
        "print(f'Is prediction correct? {is_prediction_correct}')\n",
        "\n",
        "print(f'Probabilities: {logit_model.predict_proba(features_test[2:3])[0]}')\n",
        "print('\\n')\n",
        "\n",
        "# Second, observation and prediction #501\n",
        "\n",
        "predicted_class_label = logit_model.predict(features_test[500:501])[0]\n",
        "real_class_label = predictions_test.iat[500]\n",
        "\n",
        "is_prediction_correct = (predicted_class_label == real_class_label)\n",
        "print(f'Predicted value (edible): {predicted_class_label}')\n",
        "print(f'Is prediction correct? {is_prediction_correct}')\n",
        "\n",
        "print(f'Probabilities: {logit_model.predict_proba(features_test[500:501])[0]}')"
      ]
    },
    {
      "cell_type": "markdown",
      "metadata": {
        "id": "Lx1hIizZ0XJR"
      },
      "source": [
        "# Create a K-Nearest Neighbors model to classify the data"
      ]
    },
    {
      "cell_type": "code",
      "execution_count": null,
      "metadata": {
        "id": "-A2jY22h0Vki"
      },
      "outputs": [],
      "source": [
        "# Create and train the model\n",
        "\n",
        "from sklearn.neighbors import KNeighborsClassifier\n",
        "\n",
        "knn_model = KNeighborsClassifier(n_neighbors=5)\n",
        "_ = knn_model.fit(features_train, predictions_train)"
      ]
    },
    {
      "cell_type": "code",
      "execution_count": null,
      "metadata": {
        "id": "SoRQ3kCm-gFp"
      },
      "outputs": [],
      "source": [
        "# Test the model and compare the results with earlier\n",
        "\n",
        "# First, observation and prediction #3\n",
        "predicted_class_label = knn_model.predict(features_test[2:3])[0]\n",
        "real_class_label = predictions_test.iat[2]\n",
        "\n",
        "is_prediction_correct = (predicted_class_label == real_class_label)\n",
        "print(f'Predicted value (edible): {predicted_class_label}')\n",
        "print(f'Is prediction correct? {is_prediction_correct}')\n",
        "\n",
        "print(f'Probabilities: {knn_model.predict_proba(features_test[2:3])[0]}')\n",
        "print('\\n')\n",
        "\n",
        "# Second, observation and prediction #501\n",
        "\n",
        "predicted_class_label = knn_model.predict(features_test[500:501])[0]\n",
        "real_class_label = predictions_test.iat[500]\n",
        "\n",
        "is_prediction_correct = (predicted_class_label == real_class_label)\n",
        "print(f'Predicted value (edible): {predicted_class_label}')\n",
        "print(f'Is prediction correct? {is_prediction_correct}')\n",
        "\n",
        "print(f'Probabilities: {knn_model.predict_proba(features_test[500:501])[0]}')"
      ]
    }
  ],
  "metadata": {
    "colab": {
      "collapsed_sections": [],
      "provenance": []
    },
    "kernelspec": {
      "display_name": "Python 3",
      "name": "python3"
    },
    "language_info": {
      "name": "python"
    }
  },
  "nbformat": 4,
  "nbformat_minor": 0
}
