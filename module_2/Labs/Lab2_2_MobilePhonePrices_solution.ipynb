{
  "nbformat": 4,
  "nbformat_minor": 0,
  "metadata": {
    "colab": {
      "provenance": [],
      "collapsed_sections": []
    },
    "kernelspec": {
      "name": "python3",
      "display_name": "Python 3"
    },
    "language_info": {
      "name": "python"
    }
  },
  "cells": [
    {
      "cell_type": "markdown",
      "source": [
        "<a href=\"https://colab.research.google.com/github/cm-int/machine-learning-fundamentals/blob/main/module_2/Labs/Lab2_2_MobilePhonePrices.ipynb\" target=\"_parent\"><img src=\"https://colab.research.google.com/assets/colab-badge.svg\" alt=\"Open In Colab\"/></a>"
      ],
      "metadata": {
        "id": "zIIb7CXtpakt"
      }
    },
    {
      "cell_type": "markdown",
      "source": [
        "# Lab 2.2: Creating a Multi-class and Multi-Label Machine Learning Model\n",
        "\n",
        "In the first part of this lab, you'll create multi-class machine learning models to classify mobile phones into one of four different price brackets according to the features that the phones provide. You'll import, prepare, and visualize the data, and then you'll create machine learning models using the Decision Tree, Logistic Regression, and K-Nearest Neighbors algorithms. You'll compare the results of each of these models.\n",
        "\n",
        "In the second part of this lab, you'll turn the problem around 180 degrees. You'll build a multi-label model that predicts whether a phone has 4G, WiFi, and Bluetooth capabilities based on its other characteristics, including the price bracket."
      ],
      "metadata": {
        "id": "5267xDYARBQ9"
      }
    },
    {
      "cell_type": "markdown",
      "source": [
        "#Read the Data"
      ],
      "metadata": {
        "id": "1BzaW7tuRkLz"
      }
    },
    {
      "cell_type": "code",
      "source": [
        "# Upload the mobilephonedata.csv file from Github\n",
        "\n",
        "!wget 'https://raw.githubusercontent.com/cm-int/machine-learning-fundamentals/main/module_2/Labs/mobilephonedata.csv'"
      ],
      "metadata": {
        "id": "GNJwM98TMtKV"
      },
      "execution_count": null,
      "outputs": []
    },
    {
      "cell_type": "code",
      "source": [
        "# Read the data into a Pandas DataFrame named mobilephonedata\n",
        "\n",
        "import numpy as np\n",
        "import pandas as pd\n",
        "\n",
        "mobilephonedata = pd.read_csv(\"mobilephonedata.csv\")\n",
        "mobilephonedata"
      ],
      "metadata": {
        "id": "q4CDWg2WR0Ur"
      },
      "execution_count": null,
      "outputs": []
    },
    {
      "cell_type": "markdown",
      "source": [
        "#Split the Data"
      ],
      "metadata": {
        "id": "wGFDkiMXTW_4"
      }
    },
    {
      "cell_type": "code",
      "source": [
        "# Create the phone_features DataFrame with every column apart from price_range\n",
        "\n",
        "phone_features = mobilephonedata.drop(['price_range'], axis=1)\n",
        "phone_features"
      ],
      "metadata": {
        "id": "lpVU9zlsTvQD"
      },
      "execution_count": null,
      "outputs": []
    },
    {
      "cell_type": "code",
      "source": [
        "# Create the phone_price DataFrame containing only the price_range column\n",
        "\n",
        "phone_price = mobilephonedata['price_range']\n",
        "phone_price"
      ],
      "metadata": {
        "id": "Q5mnB-UQaPn2"
      },
      "execution_count": null,
      "outputs": []
    },
    {
      "cell_type": "code",
      "source": [
        "# Visualize the data to establish whether classification looks feasible\n",
        "\n",
        "import graphviz\n",
        "import matplotlib.pyplot as plt\n",
        "from sklearn.manifold import TSNE\n",
        "\n",
        "visual_model = TSNE(learning_rate = 100, init='pca')\n",
        "visual_transformation = visual_model.fit_transform(phone_features)\n",
        "x_data = visual_transformation[:, 0]\n",
        "y_data = visual_transformation[:, 1]\n",
        "transformed_data = pd.DataFrame({'x':x_data, 'y':y_data})\n",
        "\n",
        "plt.figure(figsize=(10, 10))\n",
        "for i in range(0, 9) :\n",
        "  plt.scatter(transformed_data.loc[phone_price==i]['x'], transformed_data.loc[phone_price==i]['y'])\n",
        "\n",
        "plt.show()"
      ],
      "metadata": {
        "id": "C_2vOG6KSnOC"
      },
      "execution_count": null,
      "outputs": []
    },
    {
      "cell_type": "markdown",
      "source": [
        "#Use a Decision Tree to classify the data"
      ],
      "metadata": {
        "id": "NwuqaeQfbh1c"
      }
    },
    {
      "cell_type": "code",
      "source": [
        "# Split the data into training and test datasets\n",
        "\n",
        "from sklearn.model_selection import train_test_split\n",
        "\n",
        "features_train, features_test, predictions_train, predictions_test = train_test_split(phone_features, phone_price, test_size=0.33, random_state=13)\n",
        "print(f'features_train: {features_train.shape}\\npredictions_train: {predictions_train.shape}')"
      ],
      "metadata": {
        "id": "TUXIVHpabpwo"
      },
      "execution_count": null,
      "outputs": []
    },
    {
      "cell_type": "code",
      "source": [
        "# Create and fit a Decision Tree classifier to the training data\n",
        "\n",
        "from sklearn.tree import DecisionTreeClassifier\n",
        "\n",
        "tree_model = DecisionTreeClassifier()\n",
        "_ = tree_model.fit(features_train, predictions_train)"
      ],
      "metadata": {
        "id": "G63RRC0HdSyi"
      },
      "execution_count": null,
      "outputs": []
    },
    {
      "cell_type": "code",
      "source": [
        "# Examine the decision tree generated by the classifier\n",
        "\n",
        "from sklearn.tree import export_graphviz\n",
        "\n",
        "view_data = export_graphviz(tree_model, out_file=None, feature_names=phone_features.columns, class_names=['Price 0', 'Price 1', 'Price 2', 'Price 3'])\n",
        "graph = graphviz.Source(view_data)\n",
        "graph"
      ],
      "metadata": {
        "id": "KVjWGZrofl3x"
      },
      "execution_count": null,
      "outputs": []
    },
    {
      "cell_type": "code",
      "source": [
        "# Make predictions using the test data\n",
        "\n",
        "tree_test_results = tree_model.predict(features_test)"
      ],
      "metadata": {
        "id": "VNbFU7oMfRBg"
      },
      "execution_count": null,
      "outputs": []
    },
    {
      "cell_type": "code",
      "source": [
        "# Compare the test results to the predicted results\n",
        "\n",
        "print(f'Test Results: {tree_test_results[0:100]}\\n')\n",
        "print(f'Predictions: {predictions_test[0:100].values}')"
      ],
      "metadata": {
        "id": "hI1qTPFkfZ2t"
      },
      "execution_count": null,
      "outputs": []
    },
    {
      "cell_type": "code",
      "source": [
        "# Generate the confusion matrix\n",
        "\n",
        "from sklearn.metrics import ConfusionMatrixDisplay\n",
        "\n",
        "_ = ConfusionMatrixDisplay.from_predictions(predictions_test, tree_test_results, display_labels=['Price 0', 'Price 1', 'Price 2', 'Price 3'])"
      ],
      "metadata": {
        "id": "Xy0kcYwpjTVC"
      },
      "execution_count": null,
      "outputs": []
    },
    {
      "cell_type": "code",
      "source": [
        "# Calculate the accuracy, precision, recall, and error rate for the model\n",
        "\n",
        "from sklearn.metrics import accuracy_score, precision_score, recall_score\n",
        "\n",
        "accuracy = accuracy_score(tree_test_results, predictions_test)\n",
        "precision = precision_score(tree_test_results, predictions_test, average=None)\n",
        "recall = recall_score(tree_test_results, predictions_test, average=None)\n",
        "\n",
        "errors = tree_test_results.size - accuracy_score(tree_test_results, predictions_test, normalize=False)\n",
        "\n",
        "print(f'Accuracy Score: {accuracy}\\n')\n",
        "print(f'Precision Score: {precision}\\n')\n",
        "print(f'Recall Score: {recall}\\n')\n",
        "print(f'Number of classification errors: {errors}')"
      ],
      "metadata": {
        "id": "o0VApaugjkZW"
      },
      "execution_count": null,
      "outputs": []
    },
    {
      "cell_type": "code",
      "source": [
        "# Calculate the probabilities for each prediction\n",
        " \n",
        "test_probs = tree_model.predict_proba(features_test)\n",
        "test_probs[0:50]"
      ],
      "metadata": {
        "id": "PqUltnpUltyg"
      },
      "execution_count": null,
      "outputs": []
    },
    {
      "cell_type": "code",
      "source": [
        "# Binarize the predictions test data (convert from a single column containing 0-3, to 4 columns containing 0 or 1)\n",
        "\n",
        "from sklearn.preprocessing import label_binarize\n",
        "\n",
        "num_classes = 4\n",
        "binarized_predictions_test = label_binarize(predictions_test, classes=[*range(num_classes)])\n",
        "binarized_predictions_test"
      ],
      "metadata": {
        "id": "pS_G_COdn_p0"
      },
      "execution_count": null,
      "outputs": []
    },
    {
      "cell_type": "code",
      "source": [
        "# Plot the ROC curve for each class\n",
        "\n",
        "from sklearn.metrics import roc_curve\n",
        "\n",
        "fpr = dict()\n",
        "tpr = dict()\n",
        "plt.figure(figsize=(10, 10))\n",
        "\n",
        "for i in range(num_classes):\n",
        "    fpr[i], tpr[i], _ = roc_curve(binarized_predictions_test[:, i], test_probs[:, i])\n",
        "    plt.plot(fpr[i], tpr[i], lw=2, label='class {}'.format(i))\n",
        "\n",
        "plt.xlabel(\"False Positive Rate\")\n",
        "plt.ylabel(\"True Positive Rate\")\n",
        "plt.legend(loc=\"best\")\n",
        "plt.title(\"ROC Curves\")\n",
        "plt.show()"
      ],
      "metadata": {
        "id": "vmuueWt6jwk7"
      },
      "execution_count": null,
      "outputs": []
    },
    {
      "cell_type": "markdown",
      "source": [
        "# Use Logistic Regression to classify the data"
      ],
      "metadata": {
        "id": "jONHjQWWuxuC"
      }
    },
    {
      "cell_type": "code",
      "source": [
        "# Repeat the steps as before and compare the results\n",
        "# Use the same training and test DataFrames\n",
        "\n",
        "from sklearn.linear_model import LogisticRegression\n",
        "\n",
        "logit_model = LogisticRegression(max_iter=500, solver='sag', multi_class='multinomial', tol=1e-2) # Try with 'multinomial' and 'ovr' and observe any differences in accuracy, precision, and recall\n",
        "_ = logit_model.fit(features_train, predictions_train)"
      ],
      "metadata": {
        "id": "Qx6Ft_Dnuwsg"
      },
      "execution_count": null,
      "outputs": []
    },
    {
      "cell_type": "code",
      "source": [
        "logit_test_results = logit_model.predict(features_test)\n",
        "print(f'Test Results: {logit_test_results[0:100]}\\n')\n",
        "print(f'Predictions: {predictions_test[0:100].values}')"
      ],
      "metadata": {
        "id": "rlQszPvZvsHB"
      },
      "execution_count": null,
      "outputs": []
    },
    {
      "cell_type": "code",
      "source": [
        "_ = ConfusionMatrixDisplay.from_predictions(predictions_test, logit_test_results, display_labels=['Price 0', 'Price 1', 'Price 2', 'Price 3'])"
      ],
      "metadata": {
        "id": "Y-YR2pIZz_--"
      },
      "execution_count": null,
      "outputs": []
    },
    {
      "cell_type": "code",
      "source": [
        "accuracy = accuracy_score(logit_test_results, predictions_test)\n",
        "precision = precision_score(logit_test_results, predictions_test, average=None)\n",
        "recall = recall_score(logit_test_results, predictions_test, average=None)\n",
        "\n",
        "errors = logit_test_results.size - accuracy_score(logit_test_results, predictions_test, normalize=False)\n",
        "\n",
        "print(f'Accuracy Score: {accuracy}\\n')\n",
        "print(f'Precision Score: {precision}\\n')\n",
        "print(f'Recall Score: {recall}\\n')\n",
        "print(f'Number of classification errors: {errors}')"
      ],
      "metadata": {
        "id": "8DzG7cy_0Iha"
      },
      "execution_count": null,
      "outputs": []
    },
    {
      "cell_type": "code",
      "source": [
        "test_probs = logit_model.predict_proba(features_test)\n",
        "test_probs[0:50]"
      ],
      "metadata": {
        "id": "82EoEXLt0mMy"
      },
      "execution_count": null,
      "outputs": []
    },
    {
      "cell_type": "code",
      "source": [
        "fpr = dict()\n",
        "tpr = dict()\n",
        "plt.figure(figsize=(10, 10))\n",
        "\n",
        "for i in range(num_classes):\n",
        "    fpr[i], tpr[i], _ = roc_curve(binarized_predictions_test[:, i], test_probs[:, i])\n",
        "    plt.plot(fpr[i], tpr[i], lw=2, label='class {}'.format(i))\n",
        "\n",
        "plt.xlabel(\"False Positive Rate\")\n",
        "plt.ylabel(\"True Positive Rate\")\n",
        "plt.legend(loc=\"best\")\n",
        "plt.title(\"ROC Curves\")\n",
        "plt.show()"
      ],
      "metadata": {
        "id": "dc0RvnM50aax"
      },
      "execution_count": null,
      "outputs": []
    },
    {
      "cell_type": "markdown",
      "source": [
        "#Use the K-Nearest Neighbours algorithm to classify the data"
      ],
      "metadata": {
        "id": "lX2m53xc1Njq"
      }
    },
    {
      "cell_type": "code",
      "source": [
        "# Repeat the steps as before and compare the results\n",
        "\n",
        "from sklearn.neighbors import KNeighborsClassifier\n",
        "\n",
        "knn_model = KNeighborsClassifier(n_neighbors=5)\n",
        "_ = knn_model.fit(features_train, predictions_train)"
      ],
      "metadata": {
        "id": "S6S23XDk3pXf"
      },
      "execution_count": null,
      "outputs": []
    },
    {
      "cell_type": "code",
      "source": [
        "knn_test_results = knn_model.predict(features_test)\n",
        "print(f'Test Results: {knn_test_results[0:100]}\\n')\n",
        "print(f'Predictions: {predictions_test[0:100].values}')"
      ],
      "metadata": {
        "id": "IH57jy7RDre7"
      },
      "execution_count": null,
      "outputs": []
    },
    {
      "cell_type": "code",
      "source": [
        "_ = ConfusionMatrixDisplay.from_predictions(predictions_test, knn_test_results, display_labels=['Price 0', 'Price 1', 'Price 2', 'Price 3'])"
      ],
      "metadata": {
        "id": "aokQ7UOyD2LB"
      },
      "execution_count": null,
      "outputs": []
    },
    {
      "cell_type": "code",
      "source": [
        "accuracy = accuracy_score(knn_test_results, predictions_test)\n",
        "precision = precision_score(knn_test_results, predictions_test, average=None)\n",
        "recall = recall_score(knn_test_results, predictions_test, average=None)\n",
        "\n",
        "errors = knn_test_results.size - accuracy_score(knn_test_results, predictions_test, normalize=False)\n",
        "\n",
        "print(f'Accuracy Score: {accuracy}\\n')\n",
        "print(f'Precision Score: {precision}\\n')\n",
        "print(f'Recall Score: {recall}\\n')\n",
        "print(f'Number of classification errors: {errors}')"
      ],
      "metadata": {
        "id": "aJ2UQ0uPEM1u"
      },
      "execution_count": null,
      "outputs": []
    },
    {
      "cell_type": "code",
      "source": [
        "test_probs = knn_model.predict_proba(features_test)\n",
        "test_probs[0:50]"
      ],
      "metadata": {
        "id": "k09DaVCfEXP5"
      },
      "execution_count": null,
      "outputs": []
    },
    {
      "cell_type": "code",
      "source": [
        "fpr = dict()\n",
        "tpr = dict()\n",
        "plt.figure(figsize=(10, 10))\n",
        "\n",
        "for i in range(num_classes):\n",
        "    fpr[i], tpr[i], _ = roc_curve(binarized_predictions_test[:, i], test_probs[:, i])\n",
        "    plt.plot(fpr[i], tpr[i], lw=2, label='class {}'.format(i))\n",
        "\n",
        "plt.xlabel(\"False Positive Rate\")\n",
        "plt.ylabel(\"True Positive Rate\")\n",
        "plt.legend(loc=\"best\")\n",
        "plt.title(\"ROC Curves\")\n",
        "plt.show()"
      ],
      "metadata": {
        "id": "eBjLwOW7EsYL"
      },
      "execution_count": null,
      "outputs": []
    },
    {
      "cell_type": "markdown",
      "source": [
        "# Perform Multi-label Classification\n",
        "Predict whether a mobile phone has 4G, WiFi, and Bluetooth capabilities based on its other features and price category."
      ],
      "metadata": {
        "id": "OICNGdvYQ-cW"
      }
    },
    {
      "cell_type": "code",
      "source": [
        "# Retrieve the original data again\n",
        "\n",
        "import numpy as np\n",
        "import pandas as pd\n",
        "\n",
        "mobilephonedata = pd.read_csv(\"mobilephonedata.csv\")\n",
        "mobilephonedata"
      ],
      "metadata": {
        "id": "Sz-DVlXAVsw5"
      },
      "execution_count": null,
      "outputs": []
    },
    {
      "cell_type": "code",
      "source": [
        "# Create the phone_features DataFrame with every column apart from blue, four_g, and wifi\n",
        "\n",
        "phone_features = mobilephonedata.drop(['blue', 'four_g', 'wifi'], axis=1)\n",
        "phone_features"
      ],
      "metadata": {
        "id": "Df-KdOZuV8CE"
      },
      "execution_count": null,
      "outputs": []
    },
    {
      "cell_type": "code",
      "source": [
        "# Create the phone_labels DataFrame containing the blue, four_g, and wifi columns\n",
        "\n",
        "phone_labels = mobilephonedata[['blue', 'four_g', 'wifi']]\n",
        "phone_labels"
      ],
      "metadata": {
        "id": "vvRdH2B9YDjr"
      },
      "execution_count": null,
      "outputs": []
    },
    {
      "cell_type": "code",
      "source": [
        "# Split the data into training and test datasets\n",
        "\n",
        "from sklearn.model_selection import train_test_split\n",
        "\n",
        "features_train, features_test, labels_train, labels_test = train_test_split(phone_features, phone_labels, test_size=0.33, random_state=13)\n",
        "print(f'features_train: {features_train.shape}\\nlabels_train: {labels_train.shape}')"
      ],
      "metadata": {
        "id": "xrjq2wu8YRHp"
      },
      "execution_count": null,
      "outputs": []
    },
    {
      "cell_type": "code",
      "source": [
        "# Create a Multi Output Classifier wrapped around a Gradient Boosted Tree to classify the data\n",
        "\n",
        "from sklearn.ensemble import GradientBoostingClassifier\n",
        "from sklearn.multioutput import MultiOutputClassifier\n",
        "\n",
        "multi_model = MultiOutputClassifier(estimator=GradientBoostingClassifier())\n",
        "_ = multi_model.fit(features_train, labels_train)\n",
        "\n",
        "# Show the number of estimators created for the model. There should be one classifier per label\n",
        "print(multi_model.estimators_)"
      ],
      "metadata": {
        "id": "tOLNFtGiZGGi"
      },
      "execution_count": null,
      "outputs": []
    },
    {
      "cell_type": "code",
      "source": [
        "# Make test predictions\n",
        "\n",
        "print(f'Predicted results:\\n{labels_test}\\n')\n",
        "\n",
        "results = multi_model.predict(features_test)\n",
        "print(f'Actual results:\\n{results}')"
      ],
      "metadata": {
        "id": "uAPfF4vWZqz2"
      },
      "execution_count": null,
      "outputs": []
    },
    {
      "cell_type": "code",
      "source": [
        "# Generate the confusion matrices from the predictions\n",
        "# Note: One confusion matrix per label\n",
        "\n",
        "from sklearn.metrics import ConfusionMatrixDisplay, confusion_matrix\n",
        "import matplotlib.pyplot as plt\n",
        "\n",
        "cm = confusion_matrix(labels_test[\"blue\"], results[:, 0])\n",
        "disp = ConfusionMatrixDisplay(confusion_matrix=cm, display_labels=['No', 'Yes'])\n",
        "disp.plot()\n",
        "plt.title('Bluetooth')\n",
        "plt.show()\n",
        "\n",
        "cm = confusion_matrix(labels_test[\"four_g\"], results[:, 1])\n",
        "disp = ConfusionMatrixDisplay(confusion_matrix=cm, display_labels=['No', 'Yes'])\n",
        "disp.plot()\n",
        "plt.title('4G')\n",
        "plt.show()\n",
        "\n",
        "cm = confusion_matrix(labels_test[\"wifi\"], results[:, 2])\n",
        "disp = ConfusionMatrixDisplay(confusion_matrix=cm, display_labels=['No', 'Yes'])\n",
        "disp.plot()\n",
        "plt.title('WiFi')\n",
        "plt.show()"
      ],
      "metadata": {
        "id": "Xrq6qkO-Z7Sx"
      },
      "execution_count": null,
      "outputs": []
    },
    {
      "cell_type": "code",
      "source": [
        "# Calculate the accuracy, precision, and recall for the model\n",
        "\n",
        "from sklearn.metrics import accuracy_score, precision_score, recall_score\n",
        "\n",
        "accuracy = accuracy_score(results, labels_test)\n",
        "precision = precision_score(results, labels_test, average=None)\n",
        "recall = recall_score(results, labels_test, average=None)\n",
        "\n",
        "print(f'Accuracy Score: {accuracy}\\n')\n",
        "print(f'Precision Score: {precision}\\n')\n",
        "print(f'Recall Score: {recall}\\n')"
      ],
      "metadata": {
        "id": "mY8bhhRxaXch"
      },
      "execution_count": null,
      "outputs": []
    },
    {
      "cell_type": "code",
      "source": [
        "# Calculate the probabilities for each prediction\n",
        " \n",
        "probabilities = multi_model.predict_proba(features_test)\n",
        "probabilities[0:50]"
      ],
      "metadata": {
        "id": "dbI48X4MesmY"
      },
      "execution_count": null,
      "outputs": []
    },
    {
      "cell_type": "code",
      "source": [
        "# Generate the ROC curves for each label\n",
        "# How good is this model?\n",
        "\n",
        "import matplotlib.pyplot as plt\n",
        "from sklearn.metrics import roc_curve, roc_auc_score\n",
        "\n",
        "fpr = dict()\n",
        "tpr = dict()\n",
        "plt.figure(figsize=(10, 10))\n",
        "num_labels=3\n",
        "\n",
        "for i in range(num_labels):\n",
        "    fpr[i], tpr[i], _ = roc_curve(labels_test.iloc[:, i], probabilities[i][:, 1])\n",
        "    auc = roc_auc_score(labels_test.iloc[:, i], probabilities[i][:, 1])\n",
        "    plt.plot(fpr[i], tpr[i], lw=2, label=f'Label {phone_labels.columns[i]}: AUC {auc}')\n",
        "\n",
        "plt.plot((0, 1), (0,1), label=\"Random Guess\", c='red', linewidth=5)\n",
        "plt.xlabel(\"False Positive Rate\")\n",
        "plt.ylabel(\"True Positive Rate\")\n",
        "plt.legend(loc=\"best\")\n",
        "plt.title(\"ROC Curves\")\n",
        "plt.show()"
      ],
      "metadata": {
        "id": "-XNB1ufheonF"
      },
      "execution_count": null,
      "outputs": []
    }
  ]
}