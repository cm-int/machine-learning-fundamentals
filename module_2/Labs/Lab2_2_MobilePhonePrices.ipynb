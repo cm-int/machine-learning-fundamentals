{
  "nbformat": 4,
  "nbformat_minor": 0,
  "metadata": {
    "colab": {
      "provenance": [],
      "collapsed_sections": []
    },
    "kernelspec": {
      "name": "python3",
      "display_name": "Python 3"
    },
    "language_info": {
      "name": "python"
    }
  },
  "cells": [
    {
      "cell_type": "code",
      "execution_count": null,
      "metadata": {
        "id": "ynnjLqDtRZu2"
      },
      "outputs": [],
      "source": [
        "import numpy as np\n",
        "import pandas as pd"
      ]
    },
    {
      "cell_type": "markdown",
      "source": [
        "#Read the Data"
      ],
      "metadata": {
        "id": "1BzaW7tuRkLz"
      }
    },
    {
      "cell_type": "code",
      "source": [
        "mobilephonedata = pd.read_csv(\"mobilephonedata.csv\")\n",
        "mobilephonedata"
      ],
      "metadata": {
        "id": "q4CDWg2WR0Ur"
      },
      "execution_count": null,
      "outputs": []
    },
    {
      "cell_type": "markdown",
      "source": [
        "#Split the Data\n",
        "## Price_range is the class to predict"
      ],
      "metadata": {
        "id": "wGFDkiMXTW_4"
      }
    },
    {
      "cell_type": "code",
      "source": [
        "phone_features = mobilephonedata.drop(['price_range'], axis=1)\n",
        "phone_features"
      ],
      "metadata": {
        "id": "lpVU9zlsTvQD"
      },
      "execution_count": null,
      "outputs": []
    },
    {
      "cell_type": "code",
      "source": [
        "phone_price = mobilephonedata['price_range']\n",
        "phone_price"
      ],
      "metadata": {
        "id": "Q5mnB-UQaPn2"
      },
      "execution_count": null,
      "outputs": []
    },
    {
      "cell_type": "code",
      "source": [
        "#Visualize the data\n",
        "\n",
        "import graphviz\n",
        "import matplotlib.pyplot as plt\n",
        "from sklearn.manifold import TSNE\n",
        "\n",
        "visual_model = TSNE(learning_rate = 100, init='pca')\n",
        "visual_transformation = visual_model.fit_transform(phone_features)\n",
        "x_data = visual_transformation[:, 0]\n",
        "y_data = visual_transformation[:, 1]\n",
        "transformed_data = pd.DataFrame({'x':x_data, 'y':y_data})\n",
        "\n",
        "plt.figure(figsize=(10, 10))\n",
        "for i in range(0, 9) :\n",
        "  plt.scatter(transformed_data.loc[phone_price==i]['x'], transformed_data.loc[phone_price==i]['y'])\n",
        "\n",
        "plt.show()"
      ],
      "metadata": {
        "id": "C_2vOG6KSnOC"
      },
      "execution_count": null,
      "outputs": []
    },
    {
      "cell_type": "markdown",
      "source": [
        "#Use a Decision Tree to classify the data"
      ],
      "metadata": {
        "id": "NwuqaeQfbh1c"
      }
    },
    {
      "cell_type": "code",
      "source": [
        "from sklearn.model_selection import train_test_split\n",
        "\n",
        "features_train, features_test, predictions_train, predictions_test = train_test_split(phone_features, phone_price, test_size=0.33, random_state=13)\n",
        "print(f'features_train: {features_train.shape}\\npredictions_train: {predictions_train.shape}')"
      ],
      "metadata": {
        "id": "TUXIVHpabpwo"
      },
      "execution_count": null,
      "outputs": []
    },
    {
      "cell_type": "code",
      "source": [
        "from sklearn.tree import DecisionTreeClassifier\n",
        "\n",
        "tree_model = DecisionTreeClassifier()\n",
        "_ = tree_model.fit(features_train, predictions_train)"
      ],
      "metadata": {
        "id": "G63RRC0HdSyi"
      },
      "execution_count": null,
      "outputs": []
    },
    {
      "cell_type": "code",
      "source": [
        "# Examine the decision tree\n",
        "\n",
        "from sklearn.tree import export_graphviz\n",
        "\n",
        "view_data = export_graphviz(tree_model, out_file=None, feature_names=phone_features.columns, class_names=['Price 0', 'Price 1', 'Price 2', 'Price 3'])\n",
        "graph = graphviz.Source(view_data)\n",
        "graph"
      ],
      "metadata": {
        "id": "KVjWGZrofl3x"
      },
      "execution_count": null,
      "outputs": []
    },
    {
      "cell_type": "code",
      "source": [
        "tree_test_results = tree_model.predict(features_test)"
      ],
      "metadata": {
        "id": "VNbFU7oMfRBg"
      },
      "execution_count": null,
      "outputs": []
    },
    {
      "cell_type": "code",
      "source": [
        "# Compare the test results to the predicted results\n",
        "\n",
        "print(f'Test Results: {tree_test_results[0:100]}\\n')\n",
        "print(f'Predictions: {predictions_test[0:100].values}')"
      ],
      "metadata": {
        "id": "hI1qTPFkfZ2t"
      },
      "execution_count": null,
      "outputs": []
    },
    {
      "cell_type": "code",
      "source": [
        "from sklearn.metrics import ConfusionMatrixDisplay\n",
        "\n",
        "_ = ConfusionMatrixDisplay.from_predictions(predictions_test, tree_test_results, display_labels=['Price 0', 'Price 1', 'Price 2', 'Price 3'])"
      ],
      "metadata": {
        "id": "Xy0kcYwpjTVC"
      },
      "execution_count": null,
      "outputs": []
    },
    {
      "cell_type": "code",
      "source": [
        "from sklearn.metrics import accuracy_score\n",
        "\n",
        "accuracy = accuracy_score(tree_test_results, predictions_test)\n",
        "errors = tree_test_results.size - accuracy_score(tree_test_results, predictions_test, normalize=False)\n",
        "\n",
        "print(f'Accuracy Score: {accuracy}\\n')\n",
        "print(f'Number of classification errors: {errors}')"
      ],
      "metadata": {
        "id": "o0VApaugjkZW"
      },
      "execution_count": null,
      "outputs": []
    },
    {
      "cell_type": "code",
      "source": [
        "test_probs = tree_model.predict_proba(features_test)\n",
        "test_probs[0:50]"
      ],
      "metadata": {
        "id": "PqUltnpUltyg"
      },
      "execution_count": null,
      "outputs": []
    },
    {
      "cell_type": "code",
      "source": [
        "# binarize the predictions test data (convert from a single column containing 0-3, to 4 columns containing 0 or 1)\n",
        "\n",
        "from sklearn.preprocessing import label_binarize\n",
        "\n",
        "num_classes = 4\n",
        "binarized_predictions_test = label_binarize(predictions_test, classes=[*range(num_classes)])\n",
        "binarized_predictions_test"
      ],
      "metadata": {
        "id": "pS_G_COdn_p0"
      },
      "execution_count": null,
      "outputs": []
    },
    {
      "cell_type": "code",
      "source": [
        "# Plot the ROC curve for each class\n",
        "\n",
        "from sklearn.metrics import roc_curve\n",
        "\n",
        "fpr = dict()\n",
        "tpr = dict()\n",
        "plt.figure(figsize=(10, 10))\n",
        "\n",
        "for i in range(num_classes):\n",
        "    fpr[i], tpr[i], _ = roc_curve(binarized_predictions_test[:, i], test_probs[:, i])\n",
        "    plt.plot(fpr[i], tpr[i], lw=2, label='class {}'.format(i))\n",
        "\n",
        "plt.xlabel(\"False Positive Rate\")\n",
        "plt.ylabel(\"True Positive Rate\")\n",
        "plt.legend(loc=\"best\")\n",
        "plt.title(\"ROC Curves\")\n",
        "plt.show()"
      ],
      "metadata": {
        "id": "vmuueWt6jwk7"
      },
      "execution_count": null,
      "outputs": []
    },
    {
      "cell_type": "markdown",
      "source": [
        "# Use Logistic Regression to classify the data"
      ],
      "metadata": {
        "id": "jONHjQWWuxuC"
      }
    },
    {
      "cell_type": "code",
      "source": [
        "from sklearn.linear_model import LogisticRegression\n",
        "\n",
        "logit_model = LogisticRegression(max_iter=500, solver='sag', multi_class='multinomial')\n",
        "_ = logit_model.fit(features_train, predictions_train)"
      ],
      "metadata": {
        "id": "Qx6Ft_Dnuwsg"
      },
      "execution_count": null,
      "outputs": []
    },
    {
      "cell_type": "code",
      "source": [
        "logit_test_results = logit_model.predict(features_test)\n",
        "print(f'Test Results: {logit_test_results[0:100]}\\n')\n",
        "print(f'Predictions: {predictions_test[0:100].values}')"
      ],
      "metadata": {
        "id": "rlQszPvZvsHB"
      },
      "execution_count": null,
      "outputs": []
    },
    {
      "cell_type": "code",
      "source": [
        "_ = ConfusionMatrixDisplay.from_predictions(predictions_test, logit_test_results, display_labels=['Price 0', 'Price 1', 'Price 2', 'Price 3'])"
      ],
      "metadata": {
        "id": "Y-YR2pIZz_--"
      },
      "execution_count": null,
      "outputs": []
    },
    {
      "cell_type": "code",
      "source": [
        "accuracy = accuracy_score(logit_test_results, predictions_test)\n",
        "errors = logit_test_results.size - accuracy_score(logit_test_results, predictions_test, normalize=False)\n",
        "\n",
        "print(f'Accuracy Score: {accuracy}\\n')\n",
        "print(f'Number of classification errors: {errors}')"
      ],
      "metadata": {
        "id": "8DzG7cy_0Iha"
      },
      "execution_count": null,
      "outputs": []
    },
    {
      "cell_type": "code",
      "source": [
        "test_probs = logit_model.predict_proba(features_test)\n",
        "test_probs[0:50]"
      ],
      "metadata": {
        "id": "82EoEXLt0mMy"
      },
      "execution_count": null,
      "outputs": []
    },
    {
      "cell_type": "code",
      "source": [
        "fpr = dict()\n",
        "tpr = dict()\n",
        "plt.figure(figsize=(10, 10))\n",
        "\n",
        "for i in range(num_classes):\n",
        "    fpr[i], tpr[i], _ = roc_curve(binarized_predictions_test[:, i], test_probs[:, i])\n",
        "    plt.plot(fpr[i], tpr[i], lw=2, label='class {}'.format(i))\n",
        "\n",
        "plt.xlabel(\"False Positive Rate\")\n",
        "plt.ylabel(\"True Positive Rate\")\n",
        "plt.legend(loc=\"best\")\n",
        "plt.title(\"ROC Curves\")\n",
        "plt.show()"
      ],
      "metadata": {
        "id": "dc0RvnM50aax"
      },
      "execution_count": null,
      "outputs": []
    },
    {
      "cell_type": "markdown",
      "source": [
        "#Use Logistic Regression with scaled data"
      ],
      "metadata": {
        "id": "D9RVHi7CvAa8"
      }
    },
    {
      "cell_type": "code",
      "source": [
        "from sklearn.preprocessing import MinMaxScaler\n",
        "\n",
        "scaled_features_train = features_train.copy()\n",
        "scaled_features_test = features_test.copy()\n",
        "\n",
        "scaler = MinMaxScaler()\n",
        "\n",
        "scaled_features_train = scaler.fit_transform(scaled_features_train)\n",
        "scaled_features_test = scaler.fit_transform(scaled_features_test)\n",
        "scaled_features_test"
      ],
      "metadata": {
        "id": "ctP_tzlhxpSq"
      },
      "execution_count": null,
      "outputs": []
    },
    {
      "cell_type": "code",
      "source": [
        "logit_model = LogisticRegression(max_iter=500, multi_class='multinomial', solver=\"sag\")\n",
        "_ = logit_model.fit(scaled_features_train, predictions_train)"
      ],
      "metadata": {
        "id": "eVKjsTrL1YqW"
      },
      "execution_count": null,
      "outputs": []
    },
    {
      "cell_type": "code",
      "source": [
        "logit_test_results = logit_model.predict(scaled_features_test)\n",
        "print(f'Test Results: {logit_test_results[0:100]}\\n')\n",
        "print(f'Predictions: {predictions_test[0:100].values}')"
      ],
      "metadata": {
        "id": "cxJZe5WI14C2"
      },
      "execution_count": null,
      "outputs": []
    },
    {
      "cell_type": "code",
      "source": [
        "_ = ConfusionMatrixDisplay.from_predictions(predictions_test, logit_test_results, display_labels=['Price 0', 'Price 1', 'Price 2', 'Price 3'])"
      ],
      "metadata": {
        "id": "hqJUz6SJ2A5i"
      },
      "execution_count": null,
      "outputs": []
    },
    {
      "cell_type": "code",
      "source": [
        "accuracy = accuracy_score(logit_test_results, predictions_test)\n",
        "errors = logit_test_results.size - accuracy_score(logit_test_results, predictions_test, normalize=False)\n",
        "\n",
        "print(f'Accuracy Score: {accuracy}\\n')\n",
        "print(f'Number of classification errors: {errors}')"
      ],
      "metadata": {
        "id": "7gUDGaN_2L7K"
      },
      "execution_count": null,
      "outputs": []
    },
    {
      "cell_type": "code",
      "source": [
        "test_probs = logit_model.predict_proba(scaled_features_test)\n",
        "test_probs[0:50]"
      ],
      "metadata": {
        "id": "spn52gUo2WRK"
      },
      "execution_count": null,
      "outputs": []
    },
    {
      "cell_type": "code",
      "source": [
        "fpr = dict()\n",
        "tpr = dict()\n",
        "plt.figure(figsize=(10, 10))\n",
        "\n",
        "for i in range(num_classes):\n",
        "    fpr[i], tpr[i], _ = roc_curve(binarized_predictions_test[:, i], test_probs[:, i])\n",
        "    plt.plot(fpr[i], tpr[i], lw=2, label='class {}'.format(i))\n",
        "\n",
        "plt.xlabel(\"False Positive Rate\")\n",
        "plt.ylabel(\"True Positive Rate\")\n",
        "plt.legend(loc=\"best\")\n",
        "plt.title(\"ROC Curves\")\n",
        "plt.show()"
      ],
      "metadata": {
        "id": "B9tgAdgT2iIG"
      },
      "execution_count": null,
      "outputs": []
    },
    {
      "cell_type": "markdown",
      "source": [
        "#Use the K-Nearest Neighbours algorithm to classify the data"
      ],
      "metadata": {
        "id": "lX2m53xc1Njq"
      }
    },
    {
      "cell_type": "code",
      "source": [
        "#First, use the ordinary unscaled data\n",
        "\n",
        "from sklearn.neighbors import KNeighborsClassifier\n",
        "\n",
        "knn_model = KNeighborsClassifier(n_neighbors=5)\n",
        "_ = knn_model.fit(features_train, predictions_train)"
      ],
      "metadata": {
        "id": "S6S23XDk3pXf"
      },
      "execution_count": null,
      "outputs": []
    },
    {
      "cell_type": "code",
      "source": [
        "knn_test_results = knn_model.predict(features_test)\n",
        "print(f'Test Results: {knn_test_results[0:100]}\\n')\n",
        "print(f'Predictions: {predictions_test[0:100].values}')"
      ],
      "metadata": {
        "id": "IH57jy7RDre7"
      },
      "execution_count": null,
      "outputs": []
    },
    {
      "cell_type": "code",
      "source": [
        "_ = ConfusionMatrixDisplay.from_predictions(predictions_test, knn_test_results, display_labels=['Price 0', 'Price 1', 'Price 2', 'Price 3'])"
      ],
      "metadata": {
        "id": "aokQ7UOyD2LB"
      },
      "execution_count": null,
      "outputs": []
    },
    {
      "cell_type": "code",
      "source": [
        "accuracy = accuracy_score(knn_test_results, predictions_test)\n",
        "errors = logit_test_results.size - accuracy_score(knn_test_results, predictions_test, normalize=False)\n",
        "\n",
        "print(f'Accuracy Score: {accuracy}\\n')\n",
        "print(f'Number of classification errors: {errors}')"
      ],
      "metadata": {
        "id": "aJ2UQ0uPEM1u"
      },
      "execution_count": null,
      "outputs": []
    },
    {
      "cell_type": "code",
      "source": [
        "test_probs = knn_model.predict_proba(features_test)\n",
        "test_probs[0:50]"
      ],
      "metadata": {
        "id": "k09DaVCfEXP5"
      },
      "execution_count": null,
      "outputs": []
    },
    {
      "cell_type": "code",
      "source": [
        "fpr = dict()\n",
        "tpr = dict()\n",
        "plt.figure(figsize=(10, 10))\n",
        "\n",
        "for i in range(num_classes):\n",
        "    fpr[i], tpr[i], _ = roc_curve(binarized_predictions_test[:, i], test_probs[:, i])\n",
        "    plt.plot(fpr[i], tpr[i], lw=2, label='class {}'.format(i))\n",
        "\n",
        "plt.xlabel(\"False Positive Rate\")\n",
        "plt.ylabel(\"True Positive Rate\")\n",
        "plt.legend(loc=\"best\")\n",
        "plt.title(\"ROC Curves\")\n",
        "plt.show()"
      ],
      "metadata": {
        "id": "eBjLwOW7EsYL"
      },
      "execution_count": null,
      "outputs": []
    },
    {
      "cell_type": "code",
      "source": [
        "# Now with the scaled data\n",
        "\n",
        "knn_model = KNeighborsClassifier(n_neighbors=5)\n",
        "_ = knn_model.fit(scaled_features_train, predictions_train)"
      ],
      "metadata": {
        "id": "avuiaCDlFiAe"
      },
      "execution_count": null,
      "outputs": []
    },
    {
      "cell_type": "code",
      "source": [
        "knn_test_results = knn_model.predict(scaled_features_test)\n",
        "print(f'Test Results: {knn_test_results[0:100]}\\n')\n",
        "print(f'Predictions: {predictions_test[0:100].values}')"
      ],
      "metadata": {
        "id": "Nr2mR0CGFu_t"
      },
      "execution_count": null,
      "outputs": []
    },
    {
      "cell_type": "code",
      "source": [
        "_ = ConfusionMatrixDisplay.from_predictions(predictions_test, knn_test_results, display_labels=['Price 0', 'Price 1', 'Price 2', 'Price 3'])"
      ],
      "metadata": {
        "id": "_vSzgR6nF5It"
      },
      "execution_count": null,
      "outputs": []
    },
    {
      "cell_type": "code",
      "source": [
        "accuracy = accuracy_score(knn_test_results, predictions_test)\n",
        "errors = logit_test_results.size - accuracy_score(knn_test_results, predictions_test, normalize=False)\n",
        "\n",
        "print(f'Accuracy Score: {accuracy}\\n')\n",
        "print(f'Number of classification errors: {errors}')"
      ],
      "metadata": {
        "id": "kn21i8rMF_95"
      },
      "execution_count": null,
      "outputs": []
    },
    {
      "cell_type": "code",
      "source": [
        "test_probs = knn_model.predict_proba(scaled_features_test)\n",
        "test_probs[0:50]"
      ],
      "metadata": {
        "id": "tEx6XSl6GKkC"
      },
      "execution_count": null,
      "outputs": []
    },
    {
      "cell_type": "code",
      "source": [
        "fpr = dict()\n",
        "tpr = dict()\n",
        "plt.figure(figsize=(10, 10))\n",
        "\n",
        "for i in range(num_classes):\n",
        "    fpr[i], tpr[i], _ = roc_curve(binarized_predictions_test[:, i], test_probs[:, i])\n",
        "    plt.plot(fpr[i], tpr[i], lw=2, label='class {}'.format(i))\n",
        "\n",
        "plt.xlabel(\"False Positive Rate\")\n",
        "plt.ylabel(\"True Positive Rate\")\n",
        "plt.legend(loc=\"best\")\n",
        "plt.title(\"ROC Curves\")\n",
        "plt.show()"
      ],
      "metadata": {
        "id": "t5Z3_bTsGViu"
      },
      "execution_count": null,
      "outputs": []
    }
  ]
}