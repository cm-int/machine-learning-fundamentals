{
  "nbformat": 4,
  "nbformat_minor": 0,
  "metadata": {
    "colab": {
      "provenance": [],
      "collapsed_sections": []
    },
    "kernelspec": {
      "name": "python3",
      "display_name": "Python 3"
    },
    "language_info": {
      "name": "python"
    }
  },
  "cells": [
    {
      "cell_type": "markdown",
      "source": [
        "#Election Results from the 1992 Presidential Election\n",
        "\n",
        "This dataset contains county-level demographics and whether or not Bill Clinton won each county during the 1992 U.S presidential election. The goal for this dataset is to successfully predict if Bill Clinton won a county using the demographic variables.\n",
        "\n",
        "Data from Larry Winner and Jared Thacker.\n",
        "https://www.kaggle.com/datasets/jwt0024/1992-us-presidential-election"
      ],
      "metadata": {
        "id": "eCnlZU7SZcjF"
      }
    },
    {
      "cell_type": "code",
      "execution_count": null,
      "metadata": {
        "id": "-SbNueqPQfvO"
      },
      "outputs": [],
      "source": [
        "import numpy as np\n",
        "import pandas as pd"
      ]
    },
    {
      "cell_type": "markdown",
      "source": [
        "#Read the election data"
      ],
      "metadata": {
        "id": "Z_MSsobVRKez"
      }
    },
    {
      "cell_type": "code",
      "source": [
        "election_data = pd.read_csv(\"election_dataset.csv\")\n",
        "election_data"
      ],
      "metadata": {
        "id": "HBda4eScRSc6"
      },
      "execution_count": null,
      "outputs": []
    },
    {
      "cell_type": "code",
      "source": [
        "# Check the split of the data\n",
        "\n",
        "wins = len(np.where(election_data.clinton_win)[0])\n",
        "losses = len(np.where(election_data.clinton_win == False)[0])\n",
        "print(f'Wins: {wins}, Losses: {losses}')"
      ],
      "metadata": {
        "id": "2fgfKr5mWvlf"
      },
      "execution_count": null,
      "outputs": []
    },
    {
      "cell_type": "code",
      "source": [
        "# Separate the features from the class\n",
        "# Also, drop the county_name and state columns - this model will focus on demographic data only\n",
        "\n",
        "features = election_data.drop(['clinton_win', 'county_name', 'state'], axis=1)\n",
        "features.T"
      ],
      "metadata": {
        "id": "anZRwou4ai0i"
      },
      "execution_count": null,
      "outputs": []
    },
    {
      "cell_type": "code",
      "source": [
        "# Just select one of the classes for predictions\n",
        "\n",
        "predictions = election_data['clinton_win']\n",
        "predictions"
      ],
      "metadata": {
        "id": "HqQiPC38bMKW"
      },
      "execution_count": null,
      "outputs": []
    },
    {
      "cell_type": "code",
      "source": [
        "# Binarize the predictions\n",
        "\n",
        "predictions = pd.get_dummies(predictions)\n",
        "predictions"
      ],
      "metadata": {
        "id": "aPC_AMbWZUV7"
      },
      "execution_count": null,
      "outputs": []
    },
    {
      "cell_type": "code",
      "source": [
        "# Only use the True column from the predictions (the False column is redundant)\n",
        "\n",
        "predictions = predictions[0]\n",
        "predictions"
      ],
      "metadata": {
        "id": "TieHG3nVlS2D"
      },
      "execution_count": null,
      "outputs": []
    },
    {
      "cell_type": "markdown",
      "source": [
        "# Visualize the data\n",
        "Check for clustering, if any (the better clustered the data, the better the classification model is likely to be)"
      ],
      "metadata": {
        "id": "gqOWvesNb5ee"
      }
    },
    {
      "cell_type": "code",
      "source": [
        "import graphviz\n",
        "import matplotlib.pyplot as plt\n",
        "from sklearn.manifold import TSNE\n",
        "\n",
        "visual_model = TSNE(learning_rate = 100, init='pca') # t-Distributed Stochastic Neighbor Embedding visualization - preserves clustering of data\n",
        "visual_transformation = visual_model.fit_transform(features)\n",
        "x_data = visual_transformation[:, 0]\n",
        "y_data = visual_transformation[:, 1]\n",
        "transformed_data = pd.DataFrame({'x':x_data, 'y':y_data})"
      ],
      "metadata": {
        "id": "irAGRMD1b-xP"
      },
      "execution_count": null,
      "outputs": []
    },
    {
      "cell_type": "code",
      "source": [
        "plt.figure(figsize=(10, 10))\n",
        "plt.scatter(transformed_data.loc[predictions==0]['x'], transformed_data.loc[predictions==0]['y'], c= 'tab:red')\n",
        "plt.scatter(transformed_data.loc[predictions==1]['x'], transformed_data.loc[predictions==1]['y'], c= 'tab:blue')\n",
        "plt.legend(loc ='lower left', labels = ['Lose', 'Win'])\n",
        "\n",
        "plt.show()"
      ],
      "metadata": {
        "id": "0xpaHYXzcIrG"
      },
      "execution_count": null,
      "outputs": []
    },
    {
      "cell_type": "markdown",
      "source": [
        "# Build and test a Decision Tree model"
      ],
      "metadata": {
        "id": "wcR76_U1dESu"
      }
    },
    {
      "cell_type": "code",
      "source": [
        "from sklearn.model_selection import train_test_split\n",
        "\n",
        "features_train, features_test, predictions_train, predictions_test = train_test_split(features, predictions, test_size=0.33, random_state=13)\n",
        "print(f'features_train: {features_train.shape}\\npredictions_train: {predictions_train.shape}')"
      ],
      "metadata": {
        "id": "mQKtK4bIdLrJ"
      },
      "execution_count": null,
      "outputs": []
    },
    {
      "cell_type": "code",
      "source": [
        "from sklearn.tree import DecisionTreeClassifier\n",
        "\n",
        "tree_model = DecisionTreeClassifier()\n",
        "_ = tree_model.fit(features_train, predictions_train)"
      ],
      "metadata": {
        "id": "j6TSGZnrdSYV"
      },
      "execution_count": null,
      "outputs": []
    },
    {
      "cell_type": "code",
      "source": [
        "# Examine the decision tree\n",
        "\n",
        "from sklearn.tree import export_graphviz\n",
        "\n",
        "view_data = export_graphviz(tree_model, out_file=None, feature_names=features.columns, class_names=['Lose', 'Win'])\n",
        "graph = graphviz.Source(view_data)\n",
        "graph"
      ],
      "metadata": {
        "id": "k_4iT3IldoV6"
      },
      "execution_count": null,
      "outputs": []
    },
    {
      "cell_type": "markdown",
      "source": [
        "#Test the model"
      ],
      "metadata": {
        "id": "kDMe1sfKiNmW"
      }
    },
    {
      "cell_type": "code",
      "source": [
        "tree_test_results = tree_model.predict(features_test)"
      ],
      "metadata": {
        "id": "yDxcHDChfCAb"
      },
      "execution_count": null,
      "outputs": []
    },
    {
      "cell_type": "code",
      "source": [
        "# Compare the test results to the predicted results\n",
        "\n",
        "print(f'Test Results: {tree_test_results[0:100]}\\n')\n",
        "print(f'Predictions: {predictions_test[0:100].values}')"
      ],
      "metadata": {
        "id": "V3nvLF-1fNc3"
      },
      "execution_count": null,
      "outputs": []
    },
    {
      "cell_type": "code",
      "source": [
        "from sklearn.metrics import ConfusionMatrixDisplay\n",
        "\n",
        "_ = ConfusionMatrixDisplay.from_predictions(predictions_test, tree_test_results, display_labels=['Lose', 'Win'])"
      ],
      "metadata": {
        "id": "L2SDmZ8_f5vT"
      },
      "execution_count": null,
      "outputs": []
    },
    {
      "cell_type": "code",
      "source": [
        "from sklearn.metrics import accuracy_score\n",
        "\n",
        "accuracy = accuracy_score(tree_test_results, predictions_test)\n",
        "errors = tree_test_results.size - accuracy_score(tree_test_results, predictions_test, normalize=False)\n",
        "\n",
        "print(f'Accuracy Score: {accuracy}\\n')\n",
        "print(f'Number of classification errors: {errors}')"
      ],
      "metadata": {
        "id": "Uhwo9Ds1iB3o"
      },
      "execution_count": null,
      "outputs": []
    },
    {
      "cell_type": "code",
      "source": [
        "# Generate the ROC\n",
        "\n",
        "from sklearn import metrics\n",
        "\n",
        "_ = metrics.RocCurveDisplay.from_predictions(tree_test_results, predictions_test)"
      ],
      "metadata": {
        "id": "J9t6q7Zbj03U"
      },
      "execution_count": null,
      "outputs": []
    },
    {
      "cell_type": "code",
      "source": [
        "# Show the probabilities for each prediction made by the model\n",
        "\n",
        "tree_model.predict_proba(features_test)[0:50]"
      ],
      "metadata": {
        "id": "T6l9Pd8nA6c9"
      },
      "execution_count": null,
      "outputs": []
    },
    {
      "cell_type": "markdown",
      "source": [
        "#Perform cross-validation on the training data with 10 folds"
      ],
      "metadata": {
        "id": "z31DtIjKkpHF"
      }
    },
    {
      "cell_type": "code",
      "source": [
        "from sklearn.model_selection import cross_val_score\n",
        "\n",
        "cross_val_score(DecisionTreeClassifier(), features_train, predictions_train, cv=10, scoring='accuracy')"
      ],
      "metadata": {
        "id": "W_YK86GFkt-P"
      },
      "execution_count": null,
      "outputs": []
    },
    {
      "cell_type": "markdown",
      "source": [
        "#Build, test, and score a model built using a random forest"
      ],
      "metadata": {
        "id": "UEaQ7KLu6ZQp"
      }
    },
    {
      "cell_type": "code",
      "source": [
        "# Use the same training and test data as before\n",
        "from sklearn.ensemble import RandomForestClassifier\n",
        "\n",
        "forest_model = RandomForestClassifier(n_estimators=100)\n",
        "_ = forest_model.fit(features_train, predictions_train)"
      ],
      "metadata": {
        "id": "fq2qDRNu6iZX"
      },
      "execution_count": null,
      "outputs": []
    },
    {
      "cell_type": "code",
      "source": [
        "forest_test_results = forest_model.predict(features_test)\n",
        "forest_test_results == predictions_test.values"
      ],
      "metadata": {
        "id": "ZNkouzKF7Pva"
      },
      "execution_count": null,
      "outputs": []
    },
    {
      "cell_type": "code",
      "source": [
        "_ = ConfusionMatrixDisplay.from_predictions(predictions_test, forest_test_results, display_labels=['Lose', 'Win'])"
      ],
      "metadata": {
        "id": "F8qDxXE8734n"
      },
      "execution_count": null,
      "outputs": []
    },
    {
      "cell_type": "code",
      "source": [
        "accuracy = accuracy_score(forest_test_results, predictions_test)\n",
        "errors = forest_test_results.size - accuracy_score(forest_test_results, predictions_test, normalize=False)\n",
        "\n",
        "print(f'Accuracy Score: {accuracy}\\n')\n",
        "print(f'Number of classification errors: {errors}')"
      ],
      "metadata": {
        "id": "dS529b4h9nKb"
      },
      "execution_count": null,
      "outputs": []
    },
    {
      "cell_type": "code",
      "source": [
        "_ = metrics.RocCurveDisplay.from_predictions(forest_test_results, predictions_test)"
      ],
      "metadata": {
        "id": "6tQgMw9491sm"
      },
      "execution_count": null,
      "outputs": []
    },
    {
      "cell_type": "code",
      "source": [
        "forest_model.predict_proba(features_test)[0:50]"
      ],
      "metadata": {
        "id": "kZ7lNhI5Ahko"
      },
      "execution_count": null,
      "outputs": []
    },
    {
      "cell_type": "code",
      "source": [
        "cross_val_score(RandomForestClassifier(n_estimators=100), features_train, predictions_train, cv=10, scoring='accuracy')"
      ],
      "metadata": {
        "id": "NFCOH4v4-Bmx"
      },
      "execution_count": null,
      "outputs": []
    },
    {
      "cell_type": "markdown",
      "source": [
        "#Build, test, and score a model built using a gradient boosted tree"
      ],
      "metadata": {
        "id": "K8XKgO---ITJ"
      }
    },
    {
      "cell_type": "code",
      "source": [
        "from sklearn.ensemble import GradientBoostingClassifier\n",
        "\n",
        "gbt_model = GradientBoostingClassifier(n_estimators=100, learning_rate=0.1, max_depth=3)\n",
        "_ = gbt_model.fit(features_train, predictions_train)"
      ],
      "metadata": {
        "id": "fkBcp3wU-Xva"
      },
      "execution_count": null,
      "outputs": []
    },
    {
      "cell_type": "code",
      "source": [
        "gbt_test_results = gbt_model.predict(features_test)\n",
        "gbt_test_results == predictions_test.values"
      ],
      "metadata": {
        "id": "wqY_HXT4-6sB"
      },
      "execution_count": null,
      "outputs": []
    },
    {
      "cell_type": "code",
      "source": [
        "_ = ConfusionMatrixDisplay.from_predictions(predictions_test, gbt_test_results, display_labels=['Lose', 'Win'])"
      ],
      "metadata": {
        "id": "Lv6M2gCl_GlR"
      },
      "execution_count": null,
      "outputs": []
    },
    {
      "cell_type": "code",
      "source": [
        "accuracy = accuracy_score(gbt_test_results, predictions_test)\n",
        "errors = gbt_test_results.size - accuracy_score(gbt_test_results, predictions_test, normalize=False)\n",
        "\n",
        "print(f'Accuracy Score: {accuracy}\\n')\n",
        "print(f'Number of classification errors: {errors}')"
      ],
      "metadata": {
        "id": "wI9XTZfF_PrO"
      },
      "execution_count": null,
      "outputs": []
    },
    {
      "cell_type": "code",
      "source": [
        "_ = metrics.RocCurveDisplay.from_predictions(gbt_test_results, predictions_test)"
      ],
      "metadata": {
        "id": "72zsZbkQ_TTW"
      },
      "execution_count": null,
      "outputs": []
    },
    {
      "cell_type": "code",
      "source": [
        "gbt_model.predict_proba(features_test)[0:50]"
      ],
      "metadata": {
        "id": "Bp1_F92cAEO_"
      },
      "execution_count": null,
      "outputs": []
    },
    {
      "cell_type": "code",
      "source": [
        "cross_val_score(GradientBoostingClassifier(n_estimators=100, learning_rate=0.1, max_depth=3), features_train, predictions_train, cv=10, scoring='accuracy')"
      ],
      "metadata": {
        "id": "f9jYrVeKCktw"
      },
      "execution_count": null,
      "outputs": []
    },
    {
      "cell_type": "markdown",
      "source": [
        "#Build, test, and score a model built using Logistic Regression"
      ],
      "metadata": {
        "id": "Ri3LMpcLEj05"
      }
    },
    {
      "cell_type": "code",
      "source": [
        "from sklearn.linear_model import LogisticRegression\n",
        "\n",
        "logit_model = LogisticRegression(max_iter=200, solver=\"lbfgs\", tol=1e-4)\n",
        "_ = logit_model.fit(features_train, predictions_train)"
      ],
      "metadata": {
        "id": "X3eSqr3sEw5_"
      },
      "execution_count": null,
      "outputs": []
    },
    {
      "cell_type": "code",
      "source": [
        "logit_test_results = logit_model.predict(features_test)\n",
        "logit_test_results == predictions_test.values"
      ],
      "metadata": {
        "id": "2Vg0G5zNE8Xr"
      },
      "execution_count": null,
      "outputs": []
    },
    {
      "cell_type": "code",
      "source": [
        "_ = ConfusionMatrixDisplay.from_predictions(predictions_test, logit_test_results, display_labels=['Lose', 'Win'])"
      ],
      "metadata": {
        "id": "I7O9fAO4FLzL"
      },
      "execution_count": null,
      "outputs": []
    },
    {
      "cell_type": "code",
      "source": [
        "accuracy = accuracy_score(logit_test_results, predictions_test)\n",
        "errors = logit_test_results.size - accuracy_score(logit_test_results, predictions_test, normalize=False)\n",
        "\n",
        "print(f'Accuracy Score: {accuracy}\\n')\n",
        "print(f'Number of classification errors: {errors}')"
      ],
      "metadata": {
        "id": "2Aj76ygBFYhn"
      },
      "execution_count": null,
      "outputs": []
    },
    {
      "cell_type": "code",
      "source": [
        "_ = metrics.RocCurveDisplay.from_predictions(logit_test_results, predictions_test)"
      ],
      "metadata": {
        "id": "jfhfvY2zLYc1"
      },
      "execution_count": null,
      "outputs": []
    },
    {
      "cell_type": "code",
      "source": [
        "logit_model.predict_proba(features_test)[0:50]"
      ],
      "metadata": {
        "id": "y9oCTkWhFk7X"
      },
      "execution_count": null,
      "outputs": []
    },
    {
      "cell_type": "code",
      "source": [
        "cross_val_score(LogisticRegression(max_iter=200, solver=\"liblinear\", tol=1e-4), features_train, predictions_train, cv=10, scoring='accuracy')"
      ],
      "metadata": {
        "id": "oXw9dsQ9Fuyw"
      },
      "execution_count": null,
      "outputs": []
    },
    {
      "cell_type": "markdown",
      "source": [
        "#Build, test, and score a model built using the K-Nearest Neighbours algorithm"
      ],
      "metadata": {
        "id": "phneUzdnKC_-"
      }
    },
    {
      "cell_type": "code",
      "source": [
        "from sklearn.neighbors import KNeighborsClassifier\n",
        "\n",
        "knn_model = KNeighborsClassifier(n_neighbors=5)\n",
        "_ = knn_model.fit(features_train, predictions_train)"
      ],
      "metadata": {
        "id": "kSanr1L8KNxY"
      },
      "execution_count": null,
      "outputs": []
    },
    {
      "cell_type": "code",
      "source": [
        "knn_test_results = knn_model.predict(features_test)\n",
        "knn_test_results == predictions_test.values"
      ],
      "metadata": {
        "id": "EojzJJ5wKiNq"
      },
      "execution_count": null,
      "outputs": []
    },
    {
      "cell_type": "code",
      "source": [
        "_ = ConfusionMatrixDisplay.from_predictions(predictions_test, knn_test_results, display_labels=['Lose', 'Win'])"
      ],
      "metadata": {
        "id": "TRznRrd1KzVd"
      },
      "execution_count": null,
      "outputs": []
    },
    {
      "cell_type": "code",
      "source": [
        "accuracy = accuracy_score(knn_test_results, predictions_test)\n",
        "errors = knn_test_results.size - accuracy_score(knn_test_results, predictions_test, normalize=False)\n",
        "\n",
        "print(f'Accuracy Score: {accuracy}\\n')\n",
        "print(f'Number of classification errors: {errors}')"
      ],
      "metadata": {
        "id": "qBT2zpxrK_4e"
      },
      "execution_count": null,
      "outputs": []
    },
    {
      "cell_type": "code",
      "source": [
        "_ = metrics.RocCurveDisplay.from_predictions(knn_test_results, predictions_test)"
      ],
      "metadata": {
        "id": "qz0HmB8JLSV0"
      },
      "execution_count": null,
      "outputs": []
    },
    {
      "cell_type": "code",
      "source": [
        "knn_model.predict_proba(features_test)[0:50]"
      ],
      "metadata": {
        "id": "Ptp9CKneLmRU"
      },
      "execution_count": null,
      "outputs": []
    },
    {
      "cell_type": "code",
      "source": [
        "cross_val_score(KNeighborsClassifier(n_neighbors=5), features_train, predictions_train, cv=10, scoring='accuracy')"
      ],
      "metadata": {
        "id": "IeQe5HanLvNA"
      },
      "execution_count": null,
      "outputs": []
    },
    {
      "cell_type": "markdown",
      "source": [
        "#Generalized framework for testing classification algorithms"
      ],
      "metadata": {
        "id": "QA5HEPRLVLZ5"
      }
    },
    {
      "cell_type": "code",
      "source": [
        "def test_model(model, features_train, predictions_train, features_test, predictions_test):\n",
        "  _ = model.fit(features_train, predictions_train)\n",
        "  test_results = model.predict(features_test)\n",
        "  _ = ConfusionMatrixDisplay.from_predictions(predictions_test, test_results, display_labels=['Lose', 'Win'])\n",
        "  accuracy = accuracy_score(test_results, predictions_test)\n",
        "  errors = test_results.size - accuracy_score(test_results, predictions_test, normalize=False)\n",
        "\n",
        "  print(f'Accuracy Score: {accuracy}\\n')\n",
        "  print(f'Number of classification errors: {errors}\\n')\n",
        "\n",
        "  _ = metrics.RocCurveDisplay.from_predictions(test_results, predictions_test)\n",
        "  cross_val_score(model, features_train, predictions_train, cv=10, scoring='accuracy')"
      ],
      "metadata": {
        "id": "aCCNk9B3VWJb"
      },
      "execution_count": null,
      "outputs": []
    },
    {
      "cell_type": "code",
      "source": [
        "# Plug in the appropriate model to test and get the results\n",
        "\n",
        "test_model(forest_model, features_train, predictions_train, features_test, predictions_test)"
      ],
      "metadata": {
        "id": "kyiqw7M1WqqE"
      },
      "execution_count": null,
      "outputs": []
    },
    {
      "cell_type": "markdown",
      "source": [
        "#Use the framework to build, test, and score a model built using the Gaussian Naive Bayes algorithm"
      ],
      "metadata": {
        "id": "dnHUmo-t67W7"
      }
    },
    {
      "cell_type": "code",
      "source": [
        "from sklearn.naive_bayes import GaussianNB\n",
        "\n",
        "bayes_model = GaussianNB()\n",
        "_ = bayes_model.fit(features_train, predictions_train)"
      ],
      "metadata": {
        "id": "EEg856yC68Mq"
      },
      "execution_count": null,
      "outputs": []
    },
    {
      "cell_type": "code",
      "source": [
        "test_model(bayes_model, features_train, predictions_train, features_test, predictions_test)"
      ],
      "metadata": {
        "id": "LmVgDQxv7V9i"
      },
      "execution_count": null,
      "outputs": []
    }
  ]
}