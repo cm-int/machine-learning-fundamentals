{
  "nbformat": 4,
  "nbformat_minor": 0,
  "metadata": {
    "colab": {
      "provenance": []
    },
    "kernelspec": {
      "name": "python3",
      "display_name": "Python 3"
    },
    "language_info": {
      "name": "python"
    },
    "gpuClass": "standard"
  },
  "cells": [
    {
      "cell_type": "markdown",
      "source": [
        "<a href=\"https://colab.research.google.com/github/cm-int/machine-learning-fundamentals/blob/main/module_3/Labs/Lab3_1_Refining_a_Model.ipynb\" target=\"_parent\"><img src=\"https://colab.research.google.com/assets/colab-badge.svg\" alt=\"Open In Colab\"/></a>"
      ],
      "metadata": {
        "id": "zIIb7CXtpakt"
      }
    },
    {
      "cell_type": "markdown",
      "source": [
        "# Lab 3.1: Refining a Machine Learning Model\n",
        "\n",
        "In this lab, you'll perform the following tasks:\n",
        "\n",
        "- Build a Logistic Regression model to classify the data without any modifications to the data\n",
        "- Examine the results and measure the performance, especially the precision\n",
        "-\tExplore and refine the dataset\n",
        "-\tRecreate and retest the model\n",
        "-\tRepeat until the performance is optimized \n",
        "\n",
        "You'll also compare the performance of two models constructed using different algorithms.\n",
        "\n",
        "## Scenario\n",
        "\n",
        "This dataset is related to white variants of the Portuguese \"Vinho Verde\" wine.The dataset describes the amount of various chemicals present in wine and their effect on it's quality. This is a binary dataset; the quality is either 'Poor' or 'Good'. Your task is to predict the quality of wine using the given data.\n",
        "\n",
        "The dataset contains the following columns:\n",
        "\n",
        "Input variables (based on physicochemical tests):\\\n",
        "1 - fixed acidity\\\n",
        "2 - volatile acidity\\\n",
        "3 - citric acid\\\n",
        "4 - residual sugar\\\n",
        "5 - chlorides\\\n",
        "6 - free sulfur dioxide\\\n",
        "7 - total sulfur dioxide\\\n",
        "8 - density\\\n",
        "9 - pH\\\n",
        "10 - sulphates\\\n",
        "11 - alcohol\\\n",
        "12 - alkalinity\\\n",
        "13 - e330 level\\\n",
        "14 - effervescence index\\\n",
        "15 - consumable\\\n",
        "\\\n",
        "Output variable (based on sensory data):\\\n",
        "16 - quality (0=poor, 1=good)\n",
        "\n",
        "## Acknowledgements:\n",
        "This dataset is also available from Kaggle & UCI machine learning repository, https://archive.ics.uci.edu/ml/datasets/wine+quality."
      ],
      "metadata": {
        "id": "5267xDYARBQ9"
      }
    },
    {
      "cell_type": "markdown",
      "source": [
        "The solution code for this lab is available <a href=\"https://colab.research.google.com/github/cm-int/machine-learning-fundamentals/blob/main/module_3/Labs/Lab3_1_Refing_a_Model_solution.ipynb\" target=\"_parent\">here</a>"
      ],
      "metadata": {
        "id": "bdOienfNtLpK"
      }
    },
    {
      "cell_type": "markdown",
      "source": [
        "#Read the data"
      ],
      "metadata": {
        "id": "1BzaW7tuRkLz"
      }
    },
    {
      "cell_type": "code",
      "source": [
        "# Upload the winequalitywhites.csv file from Github\n",
        "# This step is complete\n",
        "\n",
        "!wget 'https://raw.githubusercontent.com/cm-int/machine-learning-fundamentals/main/module_3/Labs/winequalitywhites.csv'"
      ],
      "metadata": {
        "id": "GNJwM98TMtKV"
      },
      "execution_count": null,
      "outputs": []
    },
    {
      "cell_type": "code",
      "source": [
        "import pandas as pd\n",
        "import numpy as np\n",
        "\n",
        "# Read the data into a Pandas DataFrame named wine_data\n",
        "# This step is complete\n",
        "\n",
        "wine_data = pd.read_csv('winequalitywhites.csv')\n",
        "wine_data"
      ],
      "metadata": {
        "id": "q4CDWg2WR0Ur"
      },
      "execution_count": null,
      "outputs": []
    },
    {
      "cell_type": "markdown",
      "source": [
        "#Split the data"
      ],
      "metadata": {
        "id": "wGFDkiMXTW_4"
      }
    },
    {
      "cell_type": "code",
      "source": [
        "# Create the wine_features DataFrame with every column apart from quality\n",
        "# This step is complete\n",
        "\n",
        "wine_features = wine_data.drop(['quality'], axis=1)\n",
        "wine_features"
      ],
      "metadata": {
        "id": "lpVU9zlsTvQD"
      },
      "execution_count": null,
      "outputs": []
    },
    {
      "cell_type": "code",
      "source": [
        "# Create the wine_quality series containing only the quality column\n",
        "# This step is complete\n",
        "\n",
        "wine_quality = wine_data['quality']\n",
        "wine_quality"
      ],
      "metadata": {
        "id": "Q5mnB-UQaPn2"
      },
      "execution_count": null,
      "outputs": []
    },
    {
      "cell_type": "code",
      "source": [
        "# Split the data into training and test datasets\n",
        "# This step is complete\n",
        "\n",
        "from sklearn.model_selection import train_test_split\n",
        "\n",
        "features_train, features_test, predictions_train, predictions_test = train_test_split(wine_features, wine_quality, test_size=0.33, random_state=13)"
      ],
      "metadata": {
        "id": "C_2vOG6KSnOC"
      },
      "execution_count": null,
      "outputs": []
    },
    {
      "cell_type": "markdown",
      "source": [
        "#Create a Logistic Regression model to classify the data"
      ],
      "metadata": {
        "id": "NwuqaeQfbh1c"
      }
    },
    {
      "cell_type": "code",
      "source": [
        "# Create and fit the Logistic Regression model named 'wine_model' with the 'saga' solver and no regularization and an increased number of iterations and reduced tolerance (to allow the algorithm to converge)\n",
        "\n",
        "from sklearn.linear_model import LogisticRegression\n",
        "\n"
      ],
      "metadata": {
        "id": "TUXIVHpabpwo"
      },
      "execution_count": null,
      "outputs": []
    },
    {
      "cell_type": "code",
      "source": [
        "# Make predictions using the features_test dataset (save the results as the variable 'test_results') and examine the confusion matrix\n",
        "\n",
        "from sklearn.metrics import ConfusionMatrixDisplay \n"
      ],
      "metadata": {
        "id": "G63RRC0HdSyi"
      },
      "execution_count": null,
      "outputs": []
    },
    {
      "cell_type": "code",
      "source": [
        "# Calculate the precision, recall, F1-score, AUC and accuracy for the model\n",
        "\n",
        "from sklearn.metrics import precision_score, recall_score, accuracy_score, f1_score, roc_auc_score\n",
        "\n"
      ],
      "metadata": {
        "id": "KVjWGZrofl3x"
      },
      "execution_count": null,
      "outputs": []
    },
    {
      "cell_type": "code",
      "source": [
        "# Plot the ROC curve for the model from the estimator and from the test predictions\n",
        "from sklearn.metrics import roc_curve, RocCurveDisplay\n",
        "\n"
      ],
      "metadata": {
        "id": "VNbFU7oMfRBg"
      },
      "execution_count": null,
      "outputs": []
    },
    {
      "cell_type": "code",
      "source": [
        "# Plot the Precision/Recall graph for the model using the estimator and from the test results\n",
        "from sklearn.metrics import PrecisionRecallDisplay\n",
        "\n"
      ],
      "metadata": {
        "id": "K0YGi7KxSPDt"
      },
      "execution_count": null,
      "outputs": []
    },
    {
      "cell_type": "code",
      "source": [
        "# Find the threshold that maximizes precision and recall for the 'good' (1) class label\n",
        "# Display the F1 score, precision, and recall for this threshold\n",
        "\n",
        "# This step is complete\n",
        "\n",
        "from sklearn.metrics import precision_recall_curve\n",
        "\n",
        "test_results_proba = wine_model.predict_proba(features_test)\n",
        "precision, recall, thresholds = precision_recall_curve(predictions_test, test_results_proba[:, 1])\n",
        "\n",
        "precision[precision == 0] = 1e-99\n",
        "recall[recall == 0] = 1e-99\n",
        "fscores = (2 * precision * recall) / (precision + recall)\n",
        "\n",
        "ix = np.argmax(fscores)\n",
        "print(f'Optimal threshold is {thresholds[ix]}\\nF1 Score is {fscores[ix]}\\nPrecision is {precision[ix]}\\nRecall is {recall[ix]}')"
      ],
      "metadata": {
        "id": "Pfsej96EjnGv"
      },
      "execution_count": null,
      "outputs": []
    },
    {
      "cell_type": "markdown",
      "source": [
        "**What do you conclude from these statistics?**"
      ],
      "metadata": {
        "id": "T_NRB4f1v8l4"
      }
    },
    {
      "cell_type": "markdown",
      "source": [
        "# Evaluate the model"
      ],
      "metadata": {
        "id": "qUhS_1xUQXUM"
      }
    },
    {
      "cell_type": "code",
      "source": [
        "# Calculate the Gini Coefficient for the model\n",
        "# Gini Coefficient=2×(AUC−1)\n",
        "\n",
        "from sklearn.metrics import roc_auc_score\n"
      ],
      "metadata": {
        "id": "1jJXGRJqKpBx"
      },
      "execution_count": null,
      "outputs": []
    },
    {
      "cell_type": "markdown",
      "source": [
        "**What does this coefficient signify?**"
      ],
      "metadata": {
        "id": "nC17z5zuQomx"
      }
    },
    {
      "cell_type": "code",
      "source": [
        "# Calculate Cohen's Kappa for the model\n",
        "\n",
        "from sklearn.metrics import cohen_kappa_score\n"
      ],
      "metadata": {
        "id": "OR5R3of2QiRC"
      },
      "execution_count": null,
      "outputs": []
    },
    {
      "cell_type": "markdown",
      "source": [
        "**What does this value mean?**"
      ],
      "metadata": {
        "id": "gf2UGbBtRFZL"
      }
    },
    {
      "cell_type": "code",
      "source": [
        "# Calculate the Hamming Loss for the model\n",
        "from sklearn.metrics import hamming_loss\n"
      ],
      "metadata": {
        "id": "wl8t_RCNxKm3"
      },
      "execution_count": null,
      "outputs": []
    },
    {
      "cell_type": "markdown",
      "source": [
        "**What proportion of the predictions are incorrect?**"
      ],
      "metadata": {
        "id": "7lpiB0VqI5Wq"
      }
    },
    {
      "cell_type": "code",
      "source": [
        "# Calculate the Matthews Correlation Coefficient for the model\n",
        "\n",
        "from sklearn.metrics import matthews_corrcoef\n"
      ],
      "metadata": {
        "id": "2tF9Vxm-Ul54"
      },
      "execution_count": null,
      "outputs": []
    },
    {
      "cell_type": "markdown",
      "source": [
        "**How strong is the relationship between the predicted and observed class labels?**"
      ],
      "metadata": {
        "id": "hzYaTlOiV-FV"
      }
    },
    {
      "cell_type": "code",
      "source": [
        "# Plot the cumulative gains chart for the model\n",
        "!pip install Scikit-plot\n",
        "\n",
        "import scikitplot as skplt\n",
        "\n",
        "test_results_proba = wine_model.predict_proba(features_test)\n",
        "_ = skplt.metrics.plot_cumulative_gain(predictions_test, test_results_proba, figsize=(10, 10))"
      ],
      "metadata": {
        "id": "B_8-hXyHR76u"
      },
      "execution_count": null,
      "outputs": []
    },
    {
      "cell_type": "markdown",
      "source": [
        "**Overall, do your findings confirm your earlier conclusions about the precision and recall of the model?**\n"
      ],
      "metadata": {
        "id": "ks5SrAUswk6R"
      }
    },
    {
      "cell_type": "markdown",
      "source": [
        "# Refine the model - scale the data"
      ],
      "metadata": {
        "id": "1H94-dXGQICT"
      }
    },
    {
      "cell_type": "code",
      "source": [
        "# Apply a MinMaxScaler to the wine_features dataframe to create a new dataframe named 'scaled_wine_features'\n",
        "\n",
        "from sklearn.preprocessing import MinMaxScaler\n"
      ],
      "metadata": {
        "id": "NTbicWjZikqy"
      },
      "execution_count": null,
      "outputs": []
    },
    {
      "cell_type": "code",
      "source": [
        "# Rebuild the model with scaled features:\n",
        "# - Recreate test and training datasets\n",
        "# - Build the Logistic Regression model with the same parameters as before\n",
        "\n",
        "from sklearn.model_selection import train_test_split\n",
        "from sklearn.linear_model import LogisticRegression\n"
      ],
      "metadata": {
        "id": "_XWkHX0QACN1"
      },
      "execution_count": null,
      "outputs": []
    },
    {
      "cell_type": "code",
      "source": [
        "# Test the model\n",
        "# - Make predictions and examine the confusion matrix\n",
        "# - Calculate the precision, recall, F1-score, AUC and accuracy for the model\n",
        "# - Plot the ROC curve for the model from the estimator and from the test predictions\n",
        "# - Plot the Precision/Recall graph for the model using the estimator and from the test results\n"
      ],
      "metadata": {
        "id": "C7IUUc4Gf_A3"
      },
      "execution_count": null,
      "outputs": []
    },
    {
      "cell_type": "code",
      "source": [
        "# Evaluate the model\n",
        "# - Calculate the Gini Coefficient for the model\n",
        "# - Calculate Cohen's Kappa\n",
        "# - Calculate the Hamming Loss\n",
        "# - Calculate the Matthews Correlation Coefficient\n",
        "# - Plot the cumulative gains chart for the model\n",
        "\n",
        "from sklearn.metrics import roc_auc_score, cohen_kappa_score, hamming_loss, log_loss, matthews_corrcoef\n",
        "import scikitplot as skplt\n"
      ],
      "metadata": {
        "id": "B2cD3EazgbWr"
      },
      "execution_count": null,
      "outputs": []
    },
    {
      "cell_type": "markdown",
      "source": [
        "**Has the model improved?**"
      ],
      "metadata": {
        "id": "VVXXd2PWkHnm"
      }
    },
    {
      "cell_type": "markdown",
      "source": [
        "# Refine the model - remove constant and quasi-constant features"
      ],
      "metadata": {
        "id": "jONHjQWWuxuC"
      }
    },
    {
      "cell_type": "code",
      "source": [
        "# Look for features with little variance in the scaled dataframe using the 'var()' function of the dataframe.\n"
      ],
      "metadata": {
        "id": "Qx6Ft_Dnuwsg"
      },
      "execution_count": null,
      "outputs": []
    },
    {
      "cell_type": "markdown",
      "source": [
        "**Which features have a notably small variance?**"
      ],
      "metadata": {
        "id": "FuMNbrdQhYQA"
      }
    },
    {
      "cell_type": "code",
      "source": [
        "# Verify that 'consumable' has only one value - display all the unique values in this feature\n"
      ],
      "metadata": {
        "id": "xDdrrNsYhxFp"
      },
      "execution_count": null,
      "outputs": []
    },
    {
      "cell_type": "code",
      "source": [
        "# Rebuild the model without this feature:\n",
        "# - Drop the feature from the scaled_wine_features dataframe to create a dataframe named 'no_constants_wine_features'\n",
        "# - Recreate test and training datasets\n",
        "# - Build the Logistic Regression model with the same parameters as before\n",
        "\n",
        "from sklearn.model_selection import train_test_split\n",
        "from sklearn.linear_model import LogisticRegression\n"
      ],
      "metadata": {
        "id": "8vvKSChCMfDB"
      },
      "execution_count": null,
      "outputs": []
    },
    {
      "cell_type": "code",
      "source": [
        "# Test the model\n",
        "# - Make predictions and examine the confusion matrix\n",
        "# - Calculate the precision, recall, F1-score, AUC and accuracy for the model\n",
        "# - Plot the ROC curve for the model from the estimator and from the test predictions\n",
        "# - Plot the Precision/Recall graph for the model using the estimator and from the test results\n",
        "\n",
        "from sklearn.metrics import ConfusionMatrixDisplay\n",
        "from sklearn.metrics import precision_score, recall_score, accuracy_score, f1_score, roc_auc_score\n",
        "from sklearn.metrics import PrecisionRecallDisplay\n",
        "from sklearn.metrics import roc_curve, RocCurveDisplay\n"
      ],
      "metadata": {
        "id": "tPE8xeaKMl7P"
      },
      "execution_count": null,
      "outputs": []
    },
    {
      "cell_type": "code",
      "source": [
        "# Evaluate the model\n",
        "# - Calculate the Gini Coefficient for the model\n",
        "# - Calculate Cohen's Kappa\n",
        "# - Calculate the Hamming Loss\n",
        "# - Calculate the Matthews Correlation Coefficient\n",
        "# - Plot the cumulative gains chart for the model\n",
        "\n",
        "from sklearn.metrics import roc_auc_score, cohen_kappa_score, hamming_loss, log_loss, matthews_corrcoef\n",
        "import scikitplot as skplt\n",
        "\n"
      ],
      "metadata": {
        "id": "3dPqfqzZMptw"
      },
      "execution_count": null,
      "outputs": []
    },
    {
      "cell_type": "markdown",
      "source": [
        "**Has the model improved?**"
      ],
      "metadata": {
        "id": "wt_P1ZdVm2h6"
      }
    },
    {
      "cell_type": "markdown",
      "source": [
        "# Refine the model - find and remove correlated features"
      ],
      "metadata": {
        "id": "V-oeloM1MsyT"
      }
    },
    {
      "cell_type": "code",
      "source": [
        "# Find correlated features in the 'no_constants_wine_features' dataset\n",
        "\n",
        "import seaborn as sns\n",
        "from matplotlib import pyplot as plt\n"
      ],
      "metadata": {
        "id": "rlQszPvZvsHB"
      },
      "execution_count": null,
      "outputs": []
    },
    {
      "cell_type": "markdown",
      "source": [
        "**Which features show a strong correlation?**"
      ],
      "metadata": {
        "id": "zEoldubAqN3c"
      }
    },
    {
      "cell_type": "code",
      "source": [
        "# Remove the e330.level and alkalinity features and rebuild the model\n",
        "# - Drop the features from the no_constants_wine_features dataframe to create the no_correlation_wine_features dataset\n",
        "# - Recreate test and training datasets\n",
        "# - Build the Logistic Regression model with the same parameters as before\n",
        "\n",
        "from sklearn.model_selection import train_test_split\n",
        "from sklearn.linear_model import LogisticRegression\n"
      ],
      "metadata": {
        "id": "gR8FVhvyM3lH"
      },
      "execution_count": null,
      "outputs": []
    },
    {
      "cell_type": "code",
      "source": [
        "# Test the model\n",
        "# - Make predictions and examine the confusion matrix\n",
        "# - Calculate the precision, recall, F1-score, AUC and accuracy for the model\n",
        "# - Plot the ROC curve for the model from the estimator and from the test predictions\n",
        "# - Plot the Precision/Recall graph for the model using the estimator and from the test results\n",
        "\n",
        "from sklearn.metrics import ConfusionMatrixDisplay\n",
        "from sklearn.metrics import precision_score, recall_score, accuracy_score, f1_score, roc_auc_score\n",
        "from sklearn.metrics import PrecisionRecallDisplay\n",
        "from sklearn.metrics import roc_curve, RocCurveDisplay\n"
      ],
      "metadata": {
        "id": "H3L_3hNcM5mU"
      },
      "execution_count": null,
      "outputs": []
    },
    {
      "cell_type": "code",
      "source": [
        "# Evaluate the model\n",
        "# - Calculate the Gini Coefficient for the model\n",
        "# - Calculate Cohen's Kappa\n",
        "# - Calculate the Hamming Loss\n",
        "# - Calculate the Matthews Correlation Coefficient\n",
        "# - Plot the cumulative gains chart for the model\n",
        "\n",
        "from sklearn.metrics import roc_auc_score, cohen_kappa_score, hamming_loss, log_loss, matthews_corrcoef\n",
        "import scikitplot as skplt\n"
      ],
      "metadata": {
        "id": "Vm43T4V8NEUy"
      },
      "execution_count": null,
      "outputs": []
    },
    {
      "cell_type": "markdown",
      "source": [
        "**Has the model improved?**"
      ],
      "metadata": {
        "id": "tly86b1yNG7G"
      }
    },
    {
      "cell_type": "markdown",
      "source": [
        "# Refine the model - remove noise using univariate feature selection"
      ],
      "metadata": {
        "id": "5hZdlcWvNMR2"
      }
    },
    {
      "cell_type": "code",
      "source": [
        "# Perform SHAP analysis to find the features that have the most impact on predictions\n",
        "# This step is complete\n",
        "\n",
        "!pip install shap\n",
        "\n",
        "import shap\n",
        "\n",
        "explainer = shap.Explainer(wine_model.predict, features_test) \n",
        "values = explainer(features_train)\n",
        "\n",
        "shap.summary_plot(shap_values=values, features=features_train, plot_type=\"bar\")\n",
        "shap.summary_plot(shap_values=values, features=features_train, plot_type=\"violin\") "
      ],
      "metadata": {
        "id": "Y-YR2pIZz_--"
      },
      "execution_count": null,
      "outputs": []
    },
    {
      "cell_type": "code",
      "source": [
        "# Create a dataset named 'reduced_wine_features' from the 'no_correlation_wine_features' dataset with only the top five features and rebuild the model\n",
        "\n",
        "from sklearn.model_selection import train_test_split\n",
        "from sklearn.linear_model import LogisticRegression\n"
      ],
      "metadata": {
        "id": "8DzG7cy_0Iha"
      },
      "execution_count": null,
      "outputs": []
    },
    {
      "cell_type": "code",
      "source": [
        "# Test the model (repeat all previous tests)\n",
        "\n",
        "from sklearn.metrics import ConfusionMatrixDisplay\n",
        "from sklearn.metrics import precision_score, recall_score, accuracy_score, f1_score, roc_auc_score\n",
        "from sklearn.metrics import PrecisionRecallDisplay\n",
        "from sklearn.metrics import roc_curve, RocCurveDisplay\n",
        "\n"
      ],
      "metadata": {
        "id": "82EoEXLt0mMy"
      },
      "execution_count": null,
      "outputs": []
    },
    {
      "cell_type": "code",
      "source": [
        "# Evaluate the model (repeat all previous tests)\n",
        "\n",
        "from sklearn.metrics import roc_auc_score, cohen_kappa_score, hamming_loss, log_loss, matthews_corrcoef\n",
        "import scikitplot as skplt\n",
        "\n"
      ],
      "metadata": {
        "id": "dc0RvnM50aax"
      },
      "execution_count": null,
      "outputs": []
    },
    {
      "cell_type": "markdown",
      "source": [
        "**Has the model improved?**\n"
      ],
      "metadata": {
        "id": "WNxK6PeyJ46B"
      }
    },
    {
      "cell_type": "markdown",
      "source": [
        "# Refine the model - find the combination of features that give the lowest false positive rate"
      ],
      "metadata": {
        "id": "_xicsOkEqL6h"
      }
    },
    {
      "cell_type": "code",
      "source": [
        "# Use selectFpr() function to find the best combination of features that minimize the FPR using the 'no_correlation_wine_features' dataset\n",
        "\n",
        "from sklearn.model_selection import train_test_split\n",
        "from sklearn.feature_selection import SelectFpr\n",
        "from sklearn.feature_selection import chi2\n"
      ],
      "metadata": {
        "id": "YICjaTbeqKqd"
      },
      "execution_count": null,
      "outputs": []
    },
    {
      "cell_type": "code",
      "source": [
        "# Print the feature names and scores\n"
      ],
      "metadata": {
        "id": "7TV9ELbJrpVe"
      },
      "execution_count": null,
      "outputs": []
    },
    {
      "cell_type": "markdown",
      "source": [
        "**How does this compare to the features found by using SHAP analysis?**"
      ],
      "metadata": {
        "id": "cGhp7FHCsKhl"
      }
    },
    {
      "cell_type": "code",
      "source": [
        "# Rebuild and fit the model with these features. Name the new dataframe 'reduced_wine_features'\n",
        "\n",
        "from sklearn.linear_model import LogisticRegression\n",
        "from sklearn.model_selection import train_test_split\n"
      ],
      "metadata": {
        "id": "Aqos-Dfnt4H4"
      },
      "execution_count": null,
      "outputs": []
    },
    {
      "cell_type": "code",
      "source": [
        "# Test the model\n",
        "\n",
        "from sklearn.metrics import ConfusionMatrixDisplay\n",
        "from sklearn.metrics import precision_score, recall_score, accuracy_score, f1_score, roc_auc_score\n",
        "from sklearn.metrics import PrecisionRecallDisplay\n",
        "from sklearn.metrics import roc_curve, RocCurveDisplay\n"
      ],
      "metadata": {
        "id": "wCa39Bf4uO_l"
      },
      "execution_count": null,
      "outputs": []
    },
    {
      "cell_type": "code",
      "source": [
        "# Evaluate the model\n",
        "\n",
        "from sklearn.metrics import roc_auc_score, cohen_kappa_score, hamming_loss, log_loss, matthews_corrcoef\n",
        "import scikitplot as skplt\n",
        "\n"
      ],
      "metadata": {
        "id": "l_BupWLOx7KM"
      },
      "execution_count": null,
      "outputs": []
    },
    {
      "cell_type": "markdown",
      "source": [
        "**Has the model improved?**"
      ],
      "metadata": {
        "id": "9NMDOHPIzJ8U"
      }
    },
    {
      "cell_type": "markdown",
      "source": [
        "# Refine the model - remove noise using multivariate feature selection"
      ],
      "metadata": {
        "id": "xJIIyYltLHeM"
      }
    },
    {
      "cell_type": "code",
      "source": [
        "# Use forward selection to find the best combination of features\n",
        "# This step is complete\n",
        "\n",
        "from sklearn.linear_model import LogisticRegression \n",
        "from sklearn.feature_selection import SequentialFeatureSelector\n",
        "from sklearn.model_selection import train_test_split\n",
        "\n",
        "logistic_model = LogisticRegression(solver='saga', penalty='none', max_iter=2000, tol=1e-3) \n",
        "\n",
        "features_train, features_test, predictions_train, predictions_test = train_test_split(no_correlation_wine_features, wine_quality, test_size=0.33, random_state=13)\n",
        "\n",
        "sfs_forward = SequentialFeatureSelector(logistic_model, n_features_to_select=5, direction=\"forward\")\n",
        "_ = sfs_forward.fit(features_train, predictions_train) \n",
        "\n",
        "print(f'Features selected by forward sequential selection: {sfs_forward.get_feature_names_out()}') "
      ],
      "metadata": {
        "id": "DoMs4sBzK9Ew"
      },
      "execution_count": null,
      "outputs": []
    },
    {
      "cell_type": "code",
      "source": [
        "# Rebuild the model with only the top five features\n",
        "\n",
        "from sklearn.linear_model import LogisticRegression\n"
      ],
      "metadata": {
        "id": "OYnq2R3fo7dC"
      },
      "execution_count": null,
      "outputs": []
    },
    {
      "cell_type": "code",
      "source": [
        "# Test the model\n",
        "\n",
        "from sklearn.metrics import ConfusionMatrixDisplay\n",
        "from sklearn.metrics import precision_score, recall_score, accuracy_score, f1_score, roc_auc_score\n",
        "from sklearn.metrics import PrecisionRecallDisplay\n",
        "from sklearn.metrics import roc_curve, RocCurveDisplay\n"
      ],
      "metadata": {
        "id": "IC9WbjdVpUmv"
      },
      "execution_count": null,
      "outputs": []
    },
    {
      "cell_type": "code",
      "source": [
        "# Evaluate the model\n",
        "\n",
        "from sklearn.metrics import roc_auc_score, cohen_kappa_score, hamming_loss, log_loss, matthews_corrcoef\n",
        "import scikitplot as skplt\n"
      ],
      "metadata": {
        "id": "grLrpKIupzcf"
      },
      "execution_count": null,
      "outputs": []
    },
    {
      "cell_type": "markdown",
      "source": [
        "**Has the model improved?**"
      ],
      "metadata": {
        "id": "zfYMDFxkqDoW"
      }
    },
    {
      "cell_type": "markdown",
      "source": [
        "# Investigate the impact of regularization on the model"
      ],
      "metadata": {
        "id": "O52XDvEiSYxY"
      }
    },
    {
      "cell_type": "code",
      "source": [
        "# Measure the learning rate of the model before regularization. Use the 'no_constants_wine_features' dataframe to generate the test and training datasets\n",
        "# This step is complete\n",
        "\n",
        "from sklearn.model_selection import learning_curve, train_test_split\n",
        "from sklearn.linear_model import LogisticRegression\n",
        "\n",
        "features_train, features_test, predictions_train, predictions_test = train_test_split(no_constants_wine_features, wine_quality, test_size=0.33, random_state=13)\n",
        "wine_model = LogisticRegression(solver='saga', penalty='none', max_iter=2000, tol=1e-3)\n",
        "_ = wine_model.fit(features_train, predictions_train)\n",
        "\n",
        "# Compute the data for the learning curve using 10-fold cross validation of the model\n",
        "train_sizes, train_scores, test_scores = learning_curve(estimator=wine_model, X=features_train, y=predictions_train, train_sizes=np.linspace(0.1, 1.0, 19), cv=10, scoring='precision')"
      ],
      "metadata": {
        "id": "kHf_bjmrTLcg"
      },
      "execution_count": null,
      "outputs": []
    },
    {
      "cell_type": "code",
      "source": [
        "# Plot the learning curve\n",
        "# This step is complete\n",
        "\n",
        "import matplotlib.pyplot as plt\n",
        "\n",
        "plt.figure(figsize=(10,10))\n",
        "plt.plot((0,3000), (0.75,0.75), c='Grey', alpha=0.5)\n",
        "plt.plot((0,3000), (0.80,0.80), c='Grey', alpha=0.5)\n",
        "plt.plot(train_sizes, np.mean(train_scores,axis=1), label='Train (no penalty)')\n",
        "plt.plot(train_sizes, np.mean(test_scores,axis=1), label='Test (no penalty)')\n",
        "plt.xlabel('Dataset Size', fontdict={'family': 'serif', 'color':'darkred', 'weight':'normal', 'size': 28})\n",
        "plt.ylabel('Precision', fontdict={'family': 'serif', 'color':'darkred', 'weight':'normal', 'size': 28})\n",
        "plt.ylim(bottom=0.7, top=0.85)\n",
        "plt.legend(prop={'size': 20})\n",
        "plt.show()\n",
        "\n",
        "print(f'Best test score precision: {np.max(np.mean(test_scores,axis=1))}')"
      ],
      "metadata": {
        "id": "WXomnA-Z4x2p"
      },
      "execution_count": null,
      "outputs": []
    },
    {
      "cell_type": "code",
      "source": [
        "# Measure the learning rate of the model with L1 regularization\n",
        "\n"
      ],
      "metadata": {
        "id": "lCqDf9XyTYpF"
      },
      "execution_count": null,
      "outputs": []
    },
    {
      "cell_type": "code",
      "source": [
        "# Plot the learning curve\n",
        "\n",
        "import matplotlib.pyplot as plt\n"
      ],
      "metadata": {
        "id": "ADlgbve46a9k"
      },
      "execution_count": null,
      "outputs": []
    },
    {
      "cell_type": "code",
      "source": [
        "# Measure the learning rate of the model with L2 regularization\n"
      ],
      "metadata": {
        "id": "PShX5pVMTdGn"
      },
      "execution_count": null,
      "outputs": []
    },
    {
      "cell_type": "code",
      "source": [
        "# Plot the learning curve\n",
        "\n",
        "import matplotlib.pyplot as plt\n"
      ],
      "metadata": {
        "id": "jhfmQhKxAMuP"
      },
      "execution_count": null,
      "outputs": []
    },
    {
      "cell_type": "code",
      "source": [
        "# Measure the learning rate of the model with Elastic Net regularization\n"
      ],
      "metadata": {
        "id": "-r907O-pTgUG"
      },
      "execution_count": null,
      "outputs": []
    },
    {
      "cell_type": "code",
      "source": [
        "# Plot the learning curve\n",
        "\n",
        "import matplotlib.pyplot as plt\n"
      ],
      "metadata": {
        "id": "aXK4cInsAhUh"
      },
      "execution_count": null,
      "outputs": []
    },
    {
      "cell_type": "markdown",
      "source": [
        "**What do you conclude about applying the different forms of regularization to this model?**"
      ],
      "metadata": {
        "id": "r8BQ89gbTmU6"
      }
    },
    {
      "cell_type": "markdown",
      "source": [
        "# Compare the Logistic Regression model to a Random Forest model"
      ],
      "metadata": {
        "id": "L_5M887WSzvn"
      }
    },
    {
      "cell_type": "code",
      "source": [
        "# Create a random forest model over the same data\n",
        "# This step is complete\n",
        "\n",
        "from sklearn.ensemble import RandomForestClassifier\n",
        "\n",
        "forest_model = RandomForestClassifier()\n",
        "_ = forest_model.fit(features_train, predictions_train)"
      ],
      "metadata": {
        "id": "zucKLgRZT8X1"
      },
      "execution_count": null,
      "outputs": []
    },
    {
      "cell_type": "code",
      "source": [
        "# Test the random forest model\n",
        "\n",
        "from sklearn.metrics import ConfusionMatrixDisplay\n",
        "from sklearn.metrics import precision_score, recall_score, accuracy_score, f1_score, roc_auc_score\n",
        "from sklearn.metrics import PrecisionRecallDisplay\n",
        "from sklearn.metrics import roc_curve, RocCurveDisplay\n"
      ],
      "metadata": {
        "id": "on1s0B4VG0AF"
      },
      "execution_count": null,
      "outputs": []
    },
    {
      "cell_type": "code",
      "source": [
        "# Evaluate the model\n",
        "\n",
        "from sklearn.metrics import roc_auc_score, cohen_kappa_score, hamming_loss, log_loss, matthews_corrcoef\n",
        "import scikitplot as skplt\n"
      ],
      "metadata": {
        "id": "u1lVxSqAHSs2"
      },
      "execution_count": null,
      "outputs": []
    },
    {
      "cell_type": "markdown",
      "source": [
        "**How does this model compare to the Logistic Regression model?**"
      ],
      "metadata": {
        "id": "Y9KwfPsiHuCX"
      }
    },
    {
      "cell_type": "code",
      "source": [
        "# Perform McNemar's test to compute the marginal error rates of the models and compare these error rates\n",
        "\n",
        "!pip install Mlxtend\n",
        "\n",
        "from mlxtend.evaluate import mcnemar_table, mcnemar\n"
      ],
      "metadata": {
        "id": "lvJ33oYLUUOe"
      },
      "execution_count": null,
      "outputs": []
    },
    {
      "cell_type": "markdown",
      "source": [
        "**What does this test indicate?**\n"
      ],
      "metadata": {
        "id": "RaosZ1wnLJX_"
      }
    },
    {
      "cell_type": "code",
      "source": [
        "# Perform 5x2 cross-validation test to compare the models\n",
        "\n",
        "from mlxtend.evaluate import paired_ttest_5x2cv\n"
      ],
      "metadata": {
        "id": "DZAZSeRLGBFm"
      },
      "execution_count": null,
      "outputs": []
    },
    {
      "cell_type": "markdown",
      "source": [
        "**Is there a significance in the difference of the accuracy of the two models?**\n"
      ],
      "metadata": {
        "id": "-GoAO65XISex"
      }
    },
    {
      "cell_type": "code",
      "source": [
        "# Compare the DET curves for the two models\n",
        "\n",
        "from sklearn.metrics import DetCurveDisplay\n",
        "import matplotlib.pyplot as plt\n",
        "\n"
      ],
      "metadata": {
        "id": "Gk9d6hXYUBBU"
      },
      "execution_count": null,
      "outputs": []
    },
    {
      "cell_type": "markdown",
      "source": [
        "**How does the Logistic Regression model compare to the Random Forest model**\n"
      ],
      "metadata": {
        "id": "h-meHfRVUNA7"
      }
    },
    {
      "cell_type": "markdown",
      "source": [
        "#Conclusions\n",
        "\n",
        "It is important to understand how to measure the effects of tuning a model in different ways, and how to compare the performance of two models.\n",
        "\n",
        "Scaling the features can has a notable effect on a linear model, although the results will likely be less dramatic on a tree-based model.\n",
        "\n",
        "This exercise also highlights that algorithm selection is an important part of building a machine learning classification model. The random forest model worked much better than the logistic regression model, even without performing any tuning."
      ],
      "metadata": {
        "id": "H4vz7PtFUgC2"
      }
    }
  ]
}